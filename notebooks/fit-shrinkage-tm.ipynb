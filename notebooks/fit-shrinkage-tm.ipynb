{
 "cells": [
  {
   "cell_type": "code",
   "execution_count": 1,
   "metadata": {},
   "outputs": [],
   "source": [
    "\"\"\"\n",
    "This is a the shrinkage version of Transport map. In this version, \n",
    "the regression functions $f_i$ and the niggest parameters $d_i$ are \n",
    "assumed to have some specific structures. These values are given by\n",
    "the parametric covariance matrix. At the time being, no estimation\n",
    "of the parametric covariance matrix is considered. In other words, \n",
    "we imply that all the parameters of the parametric covariance matrix\n",
    "are known and does not need to be estimated. In latter versions, we\n",
    "will consider the estimation of the parametric covariance matrix.\n",
    "\n",
    "\n",
    "Author: Anirban Chakraborty,\n",
    "Last modified: May 7, 2024\n",
    "\"\"\"\n",
    "%load_ext autoreload\n",
    "%autoreload 2"
   ]
  },
  {
   "cell_type": "markdown",
   "metadata": {},
   "source": [
    "### Load necessary libraries"
   ]
  },
  {
   "cell_type": "code",
   "execution_count": 2,
   "metadata": {},
   "outputs": [
    {
     "name": "stderr",
     "output_type": "stream",
     "text": [
      "/home/anirban0451/miniconda3/envs/climate/lib/python3.11/site-packages/tqdm/auto.py:21: TqdmWarning: IProgress not found. Please update jupyter and ipywidgets. See https://ipywidgets.readthedocs.io/en/stable/user_install.html\n",
      "  from .autonotebook import tqdm as notebook_tqdm\n"
     ]
    }
   ],
   "source": [
    "import torch\n",
    "import numpy as np\n",
    "from veccs import orderings\n",
    "from gpytorch.kernels import MaternKernel\n",
    "from sklearn.gaussian_process import kernels\n",
    "from matplotlib import pyplot as plt\n",
    "\n",
    "from batram.helpers import make_grid, GaussianProcessGenerator\n",
    "from batram.legmods import Data, SimpleTM\n",
    "from batram.shrinkmods import ShrinkTM\n"
   ]
  },
  {
   "cell_type": "markdown",
   "metadata": {},
   "source": [
    "### Comparing log-score with the base transport maps"
   ]
  },
  {
   "cell_type": "code",
   "execution_count": 3,
   "metadata": {},
   "outputs": [
    {
     "data": {
      "text/plain": [
       "<torch._C.Generator at 0x7ff81c08d7f0>"
      ]
     },
     "execution_count": 3,
     "metadata": {},
     "output_type": "execute_result"
    }
   ],
   "source": [
    "torch.manual_seed(20240507)"
   ]
  },
  {
   "cell_type": "code",
   "execution_count": 4,
   "metadata": {},
   "outputs": [],
   "source": [
    "## kernel and location parameters\n",
    "\n",
    "num_locs = 30; dim_locs = 2\n",
    "nu_original = 0.5\n",
    "length_scale_original = 0.3\n",
    "numSamples = 30\n",
    "sd_noise=1e-3\n",
    "largest_conditioning_set = 30"
   ]
  },
  {
   "cell_type": "code",
   "execution_count": 5,
   "metadata": {},
   "outputs": [],
   "source": [
    "## generate data\n",
    "\n",
    "locs = make_grid(num_locs, dim_locs)\n",
    "\n",
    "#sample data\n",
    "gpkernel = kernels.Matern(nu=nu_original, length_scale=length_scale_original)\n",
    "gp = GaussianProcessGenerator(locs=locs, kernel=gpkernel, sd_noise=sd_noise)\n",
    "numpydata = gp.sample(num_reps=200)"
   ]
  },
  {
   "cell_type": "code",
   "execution_count": 6,
   "metadata": {},
   "outputs": [],
   "source": [
    "## ordering the locations\n",
    "\n",
    "locsorder = orderings.maxmin_cpp(locs=locs) #find maxmin-ordeing\n",
    "locs = locs[locsorder, ...]\n",
    "nn = orderings.find_nns_l2(locs, largest_conditioning_set)"
   ]
  },
  {
   "cell_type": "code",
   "execution_count": 7,
   "metadata": {},
   "outputs": [],
   "source": [
    "## defining the weights of shrinkage kernel\n",
    "\n",
    "parametric_mean_factors = torch.zeros((locs.shape[0], largest_conditioning_set))\n",
    "parametric_variances = torch.zeros(locs.shape[0])\n",
    "parametric_variances[0] = 1\n",
    "\n",
    "for i in range(1, locs.shape[0]):\n",
    "    current_locs = locs[i, :]\n",
    "    if i < largest_conditioning_set:\n",
    "        previous_locs = locs[nn[i, 0:i], :]\n",
    "    else:\n",
    "        previous_locs = locs[nn[i], :]\n",
    "    Sigma22 = torch.from_numpy(gpkernel(previous_locs, previous_locs)) + (sd_noise ** 2) * torch.eye(previous_locs.shape[0])\n",
    "    Sigma12 = torch.from_numpy(gpkernel(current_locs, previous_locs))\n",
    "    Sigma22inv = torch.linalg.solve(Sigma22, torch.eye(previous_locs.shape[0], dtype=torch.double))\n",
    "    parametric_mean_factors[i, 0:min(i, largest_conditioning_set)] = Sigma12 @ Sigma22inv\n",
    "    parametric_variances[i] = 1 - Sigma12 @ Sigma22inv @ Sigma12.T"
   ]
  },
  {
   "cell_type": "code",
   "execution_count": 8,
   "metadata": {},
   "outputs": [],
   "source": [
    "## getting the data ready\n",
    "\n",
    "torchdata = torch.from_numpy(numpydata).float() #converts into torch format\n",
    "torchdata = torchdata[:, locsorder]\n",
    "numSamples = [2, 3, 5, 10, 15, 20]\n",
    "neglogScore_tm = torch.zeros(len(numSamples))\n",
    "neglogScore_shrink = torch.zeros(len(numSamples))\n",
    "tm_models = []\n",
    "shrink_models = []\n",
    "yreps = 50 #to be used for estimating log-score\n"
   ]
  },
  {
   "cell_type": "code",
   "execution_count": 9,
   "metadata": {},
   "outputs": [
    {
     "name": "stderr",
     "output_type": "stream",
     "text": [
      "Train Loss: 757.754, Test Loss: 757.754: 100%|██████████| 2000/2000 [00:44<00:00, 45.25it/s]\n",
      "Train Loss: -935.488, Test Loss: -935.488: 100%|██████████| 2000/2000 [00:40<00:00, 49.25it/s]\n"
     ]
    }
   ],
   "source": [
    "## fit models\n",
    "for i, n in enumerate(numSamples):\n",
    "    obs = torchdata[0:n, :] #snip first n samples\n",
    "    #if obs.dim() == 1:\n",
    "    #    obs = obs.unsqueeze(0)\n",
    "    obsTrain = obs\n",
    "\n",
    "    # Create a `Data` object for use with the `SimpleTM`/ `ShrinkTM` model.\n",
    "    data = Data.new(torch.as_tensor(locs).float(), obs, torch.as_tensor(nn))\n",
    "\n",
    "    tm = SimpleTM(data, theta_init=None, linear=False, smooth=1.5, nug_mult=4.0)\n",
    "    nsteps = 2000\n",
    "    opt = torch.optim.Adam(tm.parameters(), lr=0.01)\n",
    "    sched = torch.optim.lr_scheduler.CosineAnnealingLR(opt, nsteps)\n",
    "    res = tm.fit(\n",
    "        nsteps, 0.1, test_data=tm.data, optimizer=opt, scheduler=sched, batch_size=300\n",
    "    )\n",
    "    tm_models.append(tm)\n",
    "    \n",
    "    shrink_tm = ShrinkTM(data, theta_init=None, linear=False, \n",
    "                     smooth=1.5, \n",
    "                     shrinkage_mean_factor=parametric_mean_factors,\n",
    "                     shrinkage_var=parametric_variances)\n",
    "    opt2 = torch.optim.Adam(shrink_tm.parameters(), lr=0.01)\n",
    "    sched2 = torch.optim.lr_scheduler.CosineAnnealingLR(opt2, nsteps)\n",
    "    res2 = shrink_tm.fit(\n",
    "        nsteps, 0.1, test_data=shrink_tm.data, optimizer=opt2, scheduler=sched2, batch_size=300\n",
    "    )\n",
    "    shrink_models.append(shrink_tm)\n",
    "\n",
    "    for _j in range(yreps):\n",
    "        with torch.no_grad():\n",
    "            neglogScore_tm[i] += tm.score(torchdata[(100 + _j), :])\n",
    "        neglogScore_shrink[i] += shrink_tm.score(torchdata[(100 + _j), :])\n",
    "    "
   ]
  },
  {
   "cell_type": "code",
   "execution_count": null,
   "metadata": {},
   "outputs": [
    {
     "data": {
      "image/png": "[encoded data removed]",
      "text/plain": [
       "<Figure size 640x480 with 1 Axes>"
      ]
     },
     "metadata": {},
     "output_type": "display_data"
    }
   ],
   "source": [
    "logScore_tm = neglogScore_tm/yreps\n",
    "logScore_shrink = neglogScore_shrink/yreps\n",
    "plt.plot(torch.arange(len(numSamples)), logScore_tm)\n",
    "plt.plot(torch.arange(len(numSamples)), logScore_shrink)\n",
    "plt.ylim(torch.concatenate((logScore_tm, logScore_shrink)).min() - 50, \n",
    "         torch.concatenate((logScore_tm, logScore_shrink)).max() + 50)\n",
    "plt.title(\"Log-Score of SimpleTM and ShrinkTM\")\n",
    "plt.xticks(torch.arange(len(numSamples)), labels = numSamples);"
   ]
  },
  {
   "cell_type": "code",
   "execution_count": null,
   "metadata": {},
   "outputs": [
    {
     "data": {
      "text/plain": [
       "[<matplotlib.lines.Line2D at 0x7fcc824b8610>]"
      ]
     },
     "execution_count": 20,
     "metadata": {},
     "output_type": "execute_result"
    },
    {
     "data": {
      "image/png": "[encoded data removed]",
      "text/plain": [
       "<Figure size 640x480 with 1 Axes>"
      ]
     },
     "metadata": {},
     "output_type": "display_data"
    }
   ],
   "source": [
    "plt.plot(torch.arange(len(numSamples)), logScore_shrink)"
   ]
  },
  {
   "cell_type": "code",
   "execution_count": null,
   "metadata": {},
   "outputs": [],
   "source": [
    "torch.save({\n",
    "    \"tm_models\": tm_models,\n",
    "    \"shrink_models\": shrink_models,\n",
    "    \"tm_logscore\" : logScore_tm,\n",
    "    \"shrink_logscore\": logScore_shrink\n",
    "}, \"../results/initial_experiments_truth_v1.pt\")"
   ]
  },
  {
   "cell_type": "code",
   "execution_count": null,
   "metadata": {},
   "outputs": [],
   "source": [
    "neglogScore_shrink_v2 = torch.zeros(len(numSamples))"
   ]
  },
  {
   "cell_type": "code",
   "execution_count": null,
   "metadata": {},
   "outputs": [],
   "source": [
    "## fit models\n",
    "for i, n in enumerate(numSamples):\n",
    "    obs = torchdata[0:n, :] #snip first n samples\n",
    "    #if obs.dim() == 1:\n",
    "    #    obs = obs.unsqueeze(0)\n",
    "    obsTrain = obs\n",
    "\n",
    "    # Create a `Data` object for use with the `SimpleTM`/ `ShrinkTM` model.\n",
    "    data = Data.new(torch.as_tensor(locs).float(), obs, torch.as_tensor(nn))\n",
    "\n",
    "    nsteps = 2000\n",
    "    \n",
    "    shrink_tm = ShrinkTM(data, theta_init=None, linear=False, \n",
    "                     smooth=1.5, \n",
    "                     shrinkage_mean_factor=parametric_mean_factors,\n",
    "                     shrinkage_var=parametric_variances, positive_nugget_bound=False)\n",
    "    opt2 = torch.optim.Adam(shrink_tm.parameters(), lr=0.01)\n",
    "    sched2 = torch.optim.lr_scheduler.CosineAnnealingLR(opt2, nsteps)\n",
    "    res2 = shrink_tm.fit(\n",
    "        nsteps, 0.1, test_data=shrink_tm.data, optimizer=opt2, scheduler=sched2, batch_size=300\n",
    "    )\n",
    "    shrink_models.append(shrink_tm)\n",
    "\n",
    "    for _j in range(yreps):\n",
    "        neglogScore_shrink_v2[i] += shrink_tm.score(torchdata[(100 + _j), :])\n",
    "    "
   ]
  },
  {
   "cell_type": "code",
   "execution_count": null,
   "metadata": {},
   "outputs": [],
   "source": [
    "logScore_shrink_v2 = neglogScore_shrink_v2/yreps\n",
    "plt.plot(torch.arange(len(numSamples)), logScore_tm)\n",
    "plt.plot(torch.arange(len(numSamples)), logScore_shrink_v2)\n",
    "plt.ylim(torch.concatenate((logScore_tm, logScore_shrink_v2)).min() - 50, \n",
    "         torch.concatenate((logScore_tm, logScore_shrink_v2)).max() + 50)\n",
    "plt.title(\"Log-Score of SimpleTM and ShrinkTM\")\n",
    "plt.xticks(torch.arange(len(numSamples)), labels = numSamples);"
   ]
  },
  {
   "cell_type": "code",
   "execution_count": null,
   "metadata": {},
   "outputs": [],
   "source": [
    "torch.save({\n",
    "    \"tm_models\": tm_models,\n",
    "    \"shrink_models\": shrink_models,\n",
    "    \"tm_logscore\" : logScore_tm,\n",
    "    \"shrink_logscore\": logScore_shrink_v2\n",
    "}, \"../results/initial_experiments_truth_v2.pt\")"
   ]
  },
  {
   "cell_type": "code",
   "execution_count": null,
   "metadata": {},
   "outputs": [],
   "source": [
    "plt.plot(torch.arange(len(numSamples)), logScore_shrink_v2)"
   ]
  }
 ],
 "metadata": {
  "kernelspec": {
   "display_name": "climate",
   "language": "python",
   "name": "python3"
  },
  "language_info": {
   "codemirror_mode": {
    "name": "ipython",
    "version": 3
   },
   "file_extension": ".py",
   "mimetype": "text/x-python",
   "name": "python",
   "nbconvert_exporter": "python",
   "pygments_lexer": "ipython3",
   "version": "3.11.3"
  }
 },
 "nbformat": 4,
 "nbformat_minor": 2
}
