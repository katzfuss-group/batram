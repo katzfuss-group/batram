{
 "cells": [
  {
   "cell_type": "code",
   "execution_count": 1,
   "metadata": {},
   "outputs": [],
   "source": [
    "import pickle\n",
    "import math\n",
    "\n",
    "import torch\n",
    "import numpy as np\n",
    "from veccs import orderings\n",
    "\n",
    "from gpytorch.kernels import MaternKernel\n",
    "from sklearn.gaussian_process import kernels\n",
    "from matplotlib import pyplot as plt\n",
    "\n",
    "from batram.legmods import Data, SimpleTM\n",
    "from batram.shrinkmods import ShrinkTM, EstimableShrinkTM\n",
    "\n",
    "%load_ext autoreload\n",
    "%autoreload 2"
   ]
  },
  {
   "cell_type": "markdown",
   "metadata": {},
   "source": [
    "### Reading data"
   ]
  },
  {
   "cell_type": "code",
   "execution_count": 5,
   "metadata": {},
   "outputs": [],
   "source": [
    "\n",
    "with open(\"../tests/data/prec_days.pkl\", \"rb\") as f:\n",
    "    prec_days = pickle.load(f)\n",
    "\n",
    "lat = prec_days[\"lat\"]\n",
    "lon = prec_days[\"lon\"]\n",
    "obs = np.log(prec_days[\"precs\"][:,:,0].T + 1e-10)\n",
    "obs_orig = obs.copy()\n",
    "locs = np.loadtxt(\"../tests/data/americas_locs.csv\", skiprows=1, delimiter=\",\")\n",
    "lat = locs[:, 1]\n",
    "lon = locs[:, 0]"
   ]
  },
  {
   "cell_type": "code",
   "execution_count": 6,
   "metadata": {},
   "outputs": [],
   "source": [
    "#newline\n",
    "l=(lon/360)*2*math.pi; L=(lat/360)*2*math.pi\n",
    "locs=np.vstack([np.cos(L)*np.cos(l),np.cos(L)*np.sin(l),np.sin(L)]).T"
   ]
  },
  {
   "cell_type": "code",
   "execution_count": 9,
   "metadata": {},
   "outputs": [],
   "source": [
    "with open(\"../tests/data/americas_ordering.pkl\", \"rb\") as f:\n",
    "    data = pickle.load(f)"
   ]
  },
  {
   "cell_type": "code",
   "execution_count": 8,
   "metadata": {},
   "outputs": [],
   "source": [
    "#newline\n",
    "obsmean = np.mean(obs, axis=0, keepdims=True)\n",
    "obdsd = np.std(obs, axis=0, keepdims=True)"
   ]
  },
  {
   "cell_type": "markdown",
   "metadata": {},
   "source": [
    "### Standardizing"
   ]
  },
  {
   "cell_type": "code",
   "execution_count": 9,
   "metadata": {},
   "outputs": [],
   "source": [
    "#newline\n",
    "obs = (obs - obsmean) / obdsd"
   ]
  },
  {
   "cell_type": "markdown",
   "metadata": {},
   "source": [
    "### Ordering"
   ]
  },
  {
   "cell_type": "code",
   "execution_count": 11,
   "metadata": {},
   "outputs": [],
   "source": [
    "torch.manual_seed(6132024)\n",
    "#locsorder = orderings.maxmin_cpp(locs)\n",
    "locsorder = np.intp(data[\"locsorder\"])\n",
    "locsTrain = locs[locsorder, :]"
   ]
  },
  {
   "cell_type": "code",
   "execution_count": 12,
   "metadata": {},
   "outputs": [],
   "source": [
    "#nn = orderings.find_nns_l2(locsTrain, 30)\n",
    "nn = np.intp(data[\"nn\"])\n",
    "shuffle = torch.randperm(obs.shape[0])\n",
    "\n",
    "obsTrain = torch.from_numpy((obs[shuffle,:])[:, locsorder]).float()"
   ]
  },
  {
   "cell_type": "markdown",
   "metadata": {},
   "source": [
    "### Training"
   ]
  },
  {
   "cell_type": "code",
   "execution_count": 13,
   "metadata": {},
   "outputs": [],
   "source": [
    "nsteps = 200\n",
    "nTrain = [1, 3, 5, 10, 20, 30, 50, 80]"
   ]
  },
  {
   "cell_type": "code",
   "execution_count": 14,
   "metadata": {},
   "outputs": [],
   "source": [
    "logscores_tm = []\n",
    "logscores_shrink = []\n",
    "numExpReps = 10\n",
    "tm_models = []\n",
    "shrink_models = []\n",
    "numTestSamples = 50\n",
    "ModifNumTestSampleslist = []"
   ]
  },
  {
   "cell_type": "code",
   "execution_count": 15,
   "metadata": {},
   "outputs": [
    {
     "name": "stderr",
     "output_type": "stream",
     "text": [
      "Train Loss: 197.224, Test Loss: 193.034: 100%|██████████| 200/200 [00:05<00:00, 36.72it/s]\n",
      "Train Loss: -1698.097, Test Loss: -1706.705: 100%|██████████| 200/200 [00:56<00:00,  3.55it/s]\n"
     ]
    },
    {
     "name": "stdout",
     "output_type": "stream",
     "text": [
      "0th experiment with 1 training samples done.\n"
     ]
    },
    {
     "name": "stderr",
     "output_type": "stream",
     "text": [
      "Train Loss: 418.900, Test Loss: 416.246: 100%|██████████| 200/200 [00:04<00:00, 48.39it/s]\n",
      "Train Loss: -1595.475, Test Loss: -1591.940: 100%|██████████| 200/200 [00:45<00:00,  4.42it/s]\n"
     ]
    },
    {
     "name": "stdout",
     "output_type": "stream",
     "text": [
      "1th experiment with 1 training samples done.\n"
     ]
    },
    {
     "name": "stderr",
     "output_type": "stream",
     "text": [
      "Train Loss: 1120.748, Test Loss: 1123.698: 100%|██████████| 200/200 [00:04<00:00, 42.68it/s]\n",
      "Train Loss: -959.319, Test Loss: -966.726: 100%|██████████| 200/200 [00:48<00:00,  4.12it/s]\n"
     ]
    },
    {
     "name": "stdout",
     "output_type": "stream",
     "text": [
      "2th experiment with 1 training samples done.\n"
     ]
    },
    {
     "name": "stderr",
     "output_type": "stream",
     "text": [
      "Train Loss: 990.591, Test Loss: 995.321: 100%|██████████| 200/200 [00:05<00:00, 35.67it/s] \n",
      "Train Loss: -1356.953, Test Loss: -1358.699: 100%|██████████| 200/200 [00:47<00:00,  4.19it/s]\n"
     ]
    },
    {
     "name": "stdout",
     "output_type": "stream",
     "text": [
      "3th experiment with 1 training samples done.\n"
     ]
    },
    {
     "name": "stderr",
     "output_type": "stream",
     "text": [
      "Train Loss: 875.349, Test Loss: 875.103: 100%|██████████| 200/200 [00:04<00:00, 41.81it/s]\n",
      "Train Loss: -1324.567, Test Loss: -1309.957: 100%|██████████| 200/200 [01:00<00:00,  3.33it/s]\n"
     ]
    },
    {
     "name": "stdout",
     "output_type": "stream",
     "text": [
      "4th experiment with 1 training samples done.\n"
     ]
    },
    {
     "name": "stderr",
     "output_type": "stream",
     "text": [
      "Train Loss: 756.541, Test Loss: 752.505: 100%|██████████| 200/200 [00:09<00:00, 21.17it/s]\n",
      "Train Loss: -1423.703, Test Loss: -1417.264: 100%|██████████| 200/200 [01:16<00:00,  2.62it/s]\n"
     ]
    },
    {
     "name": "stdout",
     "output_type": "stream",
     "text": [
      "5th experiment with 1 training samples done.\n"
     ]
    },
    {
     "name": "stderr",
     "output_type": "stream",
     "text": [
      "Train Loss: 537.196, Test Loss: 535.091: 100%|██████████| 200/200 [00:08<00:00, 23.33it/s]\n",
      "Train Loss: -1794.762, Test Loss: -1789.912: 100%|██████████| 200/200 [01:04<00:00,  3.10it/s]\n"
     ]
    },
    {
     "name": "stdout",
     "output_type": "stream",
     "text": [
      "6th experiment with 1 training samples done.\n"
     ]
    },
    {
     "name": "stderr",
     "output_type": "stream",
     "text": [
      "Train Loss: 640.019, Test Loss: 644.834: 100%|██████████| 200/200 [00:04<00:00, 40.73it/s]\n",
      "Train Loss: -1668.792, Test Loss: -1672.219: 100%|██████████| 200/200 [00:58<00:00,  3.44it/s]\n"
     ]
    },
    {
     "name": "stdout",
     "output_type": "stream",
     "text": [
      "7th experiment with 1 training samples done.\n"
     ]
    },
    {
     "name": "stderr",
     "output_type": "stream",
     "text": [
      "Train Loss: 414.920, Test Loss: 409.498: 100%|██████████| 200/200 [00:04<00:00, 41.06it/s]\n",
      "Train Loss: -1582.919, Test Loss: -1574.332: 100%|██████████| 200/200 [01:00<00:00,  3.32it/s]\n"
     ]
    },
    {
     "name": "stdout",
     "output_type": "stream",
     "text": [
      "8th experiment with 1 training samples done.\n"
     ]
    },
    {
     "name": "stderr",
     "output_type": "stream",
     "text": [
      "Train Loss: 622.837, Test Loss: 626.109: 100%|██████████| 200/200 [00:07<00:00, 27.76it/s]\n",
      "Train Loss: -1480.485, Test Loss: -1478.224: 100%|██████████| 200/200 [01:09<00:00,  2.87it/s]\n"
     ]
    },
    {
     "name": "stdout",
     "output_type": "stream",
     "text": [
      "9th experiment with 1 training samples done.\n"
     ]
    },
    {
     "name": "stderr",
     "output_type": "stream",
     "text": [
      "Train Loss: 57.289, Test Loss: 77.860: 100%|██████████| 200/200 [00:07<00:00, 26.63it/s]  \n",
      "Train Loss: -4199.149, Test Loss: -4211.496: 100%|██████████| 200/200 [00:48<00:00,  4.12it/s]\n"
     ]
    },
    {
     "name": "stdout",
     "output_type": "stream",
     "text": [
      "0th experiment with 3 training samples done.\n"
     ]
    },
    {
     "name": "stderr",
     "output_type": "stream",
     "text": [
      "Train Loss: 107.324, Test Loss: 108.415: 100%|██████████| 200/200 [00:07<00:00, 25.48it/s]\n",
      "Train Loss: -4089.294, Test Loss: -4080.457: 100%|██████████| 200/200 [00:54<00:00,  3.70it/s]\n"
     ]
    },
    {
     "name": "stdout",
     "output_type": "stream",
     "text": [
      "1th experiment with 3 training samples done.\n"
     ]
    },
    {
     "name": "stderr",
     "output_type": "stream",
     "text": [
      "Train Loss: -148.450, Test Loss: -148.630: 100%|██████████| 200/200 [00:06<00:00, 29.63it/s]\n",
      "Train Loss: -4469.327, Test Loss: -4481.768: 100%|██████████| 200/200 [00:56<00:00,  3.53it/s]\n"
     ]
    },
    {
     "name": "stdout",
     "output_type": "stream",
     "text": [
      "2th experiment with 3 training samples done.\n"
     ]
    },
    {
     "name": "stderr",
     "output_type": "stream",
     "text": [
      "Train Loss: -399.908, Test Loss: -397.346: 100%|██████████| 200/200 [00:08<00:00, 24.03it/s]\n",
      "Train Loss: -4375.705, Test Loss: -4398.053: 100%|██████████| 200/200 [00:54<00:00,  3.70it/s]\n"
     ]
    },
    {
     "name": "stdout",
     "output_type": "stream",
     "text": [
      "3th experiment with 3 training samples done.\n"
     ]
    },
    {
     "name": "stderr",
     "output_type": "stream",
     "text": [
      "Train Loss: -141.668, Test Loss: -159.257: 100%|██████████| 200/200 [00:08<00:00, 24.97it/s]\n",
      "Train Loss: -4255.320, Test Loss: -4246.554: 100%|██████████| 200/200 [00:50<00:00,  3.94it/s]\n"
     ]
    },
    {
     "name": "stdout",
     "output_type": "stream",
     "text": [
      "4th experiment with 3 training samples done.\n"
     ]
    },
    {
     "name": "stderr",
     "output_type": "stream",
     "text": [
      "Train Loss: -143.716, Test Loss: -119.841: 100%|██████████| 200/200 [00:07<00:00, 26.51it/s]\n",
      "Train Loss: -4472.205, Test Loss: -4438.527: 100%|██████████| 200/200 [00:59<00:00,  3.37it/s]\n"
     ]
    },
    {
     "name": "stdout",
     "output_type": "stream",
     "text": [
      "5th experiment with 3 training samples done.\n"
     ]
    },
    {
     "name": "stderr",
     "output_type": "stream",
     "text": [
      "Train Loss: -518.592, Test Loss: -523.835: 100%|██████████| 200/200 [00:07<00:00, 25.97it/s]\n",
      "Train Loss: -4440.936, Test Loss: -4442.962: 100%|██████████| 200/200 [00:50<00:00,  3.95it/s]\n"
     ]
    },
    {
     "name": "stdout",
     "output_type": "stream",
     "text": [
      "6th experiment with 3 training samples done.\n"
     ]
    },
    {
     "name": "stderr",
     "output_type": "stream",
     "text": [
      "Train Loss: 804.121, Test Loss: 807.921: 100%|██████████| 200/200 [00:07<00:00, 26.48it/s] \n",
      "Train Loss: -3429.763, Test Loss: -3439.958: 100%|██████████| 200/200 [00:51<00:00,  3.90it/s]\n"
     ]
    },
    {
     "name": "stdout",
     "output_type": "stream",
     "text": [
      "7th experiment with 3 training samples done.\n"
     ]
    },
    {
     "name": "stderr",
     "output_type": "stream",
     "text": [
      "Train Loss: -166.722, Test Loss: -166.646: 100%|██████████| 200/200 [00:10<00:00, 19.34it/s]\n",
      "Train Loss: -4513.976, Test Loss: -4513.958: 100%|██████████| 200/200 [00:55<00:00,  3.60it/s]\n"
     ]
    },
    {
     "name": "stdout",
     "output_type": "stream",
     "text": [
      "8th experiment with 3 training samples done.\n"
     ]
    },
    {
     "name": "stderr",
     "output_type": "stream",
     "text": [
      "Train Loss: -499.524, Test Loss: -496.162: 100%|██████████| 200/200 [00:10<00:00, 19.43it/s]\n",
      "Train Loss: -4711.165, Test Loss: -4703.917: 100%|██████████| 200/200 [01:01<00:00,  3.24it/s]\n"
     ]
    },
    {
     "name": "stdout",
     "output_type": "stream",
     "text": [
      "9th experiment with 3 training samples done.\n"
     ]
    },
    {
     "name": "stderr",
     "output_type": "stream",
     "text": [
      "Train Loss: -2860.774, Test Loss: -2846.621: 100%|██████████| 200/200 [00:09<00:00, 21.46it/s]\n",
      "Train Loss: -8422.339, Test Loss: -8450.539: 100%|██████████| 200/200 [01:02<00:00,  3.22it/s]\n"
     ]
    },
    {
     "name": "stdout",
     "output_type": "stream",
     "text": [
      "0th experiment with 5 training samples done.\n"
     ]
    },
    {
     "name": "stderr",
     "output_type": "stream",
     "text": [
      "Train Loss: -1673.253, Test Loss: -1648.531: 100%|██████████| 200/200 [00:08<00:00, 23.26it/s]\n",
      "Train Loss: -6721.323, Test Loss: -6690.935: 100%|██████████| 200/200 [00:49<00:00,  4.04it/s]\n"
     ]
    },
    {
     "name": "stdout",
     "output_type": "stream",
     "text": [
      "1th experiment with 5 training samples done.\n"
     ]
    },
    {
     "name": "stderr",
     "output_type": "stream",
     "text": [
      "Train Loss: -1517.658, Test Loss: -1534.186: 100%|██████████| 200/200 [00:08<00:00, 22.98it/s]\n",
      "Train Loss: -7069.031, Test Loss: -7032.440: 100%|██████████| 200/200 [00:48<00:00,  4.09it/s]\n"
     ]
    },
    {
     "name": "stdout",
     "output_type": "stream",
     "text": [
      "2th experiment with 5 training samples done.\n"
     ]
    },
    {
     "name": "stderr",
     "output_type": "stream",
     "text": [
      "Train Loss: -1886.171, Test Loss: -1890.171: 100%|██████████| 200/200 [00:08<00:00, 24.03it/s]\n",
      "Train Loss: -7052.129, Test Loss: -7057.400: 100%|██████████| 200/200 [00:50<00:00,  3.93it/s]\n"
     ]
    },
    {
     "name": "stdout",
     "output_type": "stream",
     "text": [
      "3th experiment with 5 training samples done.\n"
     ]
    },
    {
     "name": "stderr",
     "output_type": "stream",
     "text": [
      "Train Loss: -1584.050, Test Loss: -1562.155: 100%|██████████| 200/200 [00:08<00:00, 23.40it/s]\n",
      "Train Loss: -6933.691, Test Loss: -6916.958: 100%|██████████| 200/200 [00:49<00:00,  4.05it/s]\n"
     ]
    },
    {
     "name": "stdout",
     "output_type": "stream",
     "text": [
      "4th experiment with 5 training samples done.\n"
     ]
    },
    {
     "name": "stderr",
     "output_type": "stream",
     "text": [
      "Train Loss: -2309.392, Test Loss: -2338.705: 100%|██████████| 200/200 [00:08<00:00, 24.40it/s]\n",
      "Train Loss: -7267.049, Test Loss: -7272.947: 100%|██████████| 200/200 [00:49<00:00,  4.07it/s]\n"
     ]
    },
    {
     "name": "stdout",
     "output_type": "stream",
     "text": [
      "5th experiment with 5 training samples done.\n"
     ]
    },
    {
     "name": "stderr",
     "output_type": "stream",
     "text": [
      "Train Loss: -2110.675, Test Loss: -2117.866: 100%|██████████| 200/200 [00:08<00:00, 24.68it/s]\n",
      "Train Loss: -7343.409, Test Loss: -7330.817: 100%|██████████| 200/200 [00:49<00:00,  4.08it/s]\n"
     ]
    },
    {
     "name": "stdout",
     "output_type": "stream",
     "text": [
      "6th experiment with 5 training samples done.\n"
     ]
    },
    {
     "name": "stderr",
     "output_type": "stream",
     "text": [
      "Train Loss: -2394.711, Test Loss: -2376.626: 100%|██████████| 200/200 [00:08<00:00, 24.10it/s]\n",
      "Train Loss: -7338.055, Test Loss: -7373.858: 100%|██████████| 200/200 [00:49<00:00,  4.04it/s]\n"
     ]
    },
    {
     "name": "stdout",
     "output_type": "stream",
     "text": [
      "7th experiment with 5 training samples done.\n"
     ]
    },
    {
     "name": "stderr",
     "output_type": "stream",
     "text": [
      "Train Loss: -1325.348, Test Loss: -1322.389: 100%|██████████| 200/200 [00:08<00:00, 24.11it/s]\n",
      "Train Loss: -6444.031, Test Loss: -6469.426: 100%|██████████| 200/200 [00:49<00:00,  4.07it/s]\n"
     ]
    },
    {
     "name": "stdout",
     "output_type": "stream",
     "text": [
      "8th experiment with 5 training samples done.\n"
     ]
    },
    {
     "name": "stderr",
     "output_type": "stream",
     "text": [
      "Train Loss: -1724.643, Test Loss: -1720.813: 100%|██████████| 200/200 [00:08<00:00, 23.54it/s]\n",
      "Train Loss: -6643.206, Test Loss: -6636.172: 100%|██████████| 200/200 [00:49<00:00,  4.05it/s]\n"
     ]
    },
    {
     "name": "stdout",
     "output_type": "stream",
     "text": [
      "9th experiment with 5 training samples done.\n"
     ]
    },
    {
     "name": "stderr",
     "output_type": "stream",
     "text": [
      "Train Loss: -7097.694, Test Loss: -7069.054: 100%|██████████| 200/200 [00:11<00:00, 17.82it/s]\n",
      "Train Loss: -13503.593, Test Loss: -13558.174: 100%|██████████| 200/200 [00:52<00:00,  3.78it/s]\n"
     ]
    },
    {
     "name": "stdout",
     "output_type": "stream",
     "text": [
      "0th experiment with 10 training samples done.\n"
     ]
    },
    {
     "name": "stderr",
     "output_type": "stream",
     "text": [
      "Train Loss: -8064.196, Test Loss: -8061.355: 100%|██████████| 200/200 [00:11<00:00, 18.16it/s]\n",
      "Train Loss: -14414.762, Test Loss: -14359.597: 100%|██████████| 200/200 [00:51<00:00,  3.86it/s]\n"
     ]
    },
    {
     "name": "stdout",
     "output_type": "stream",
     "text": [
      "1th experiment with 10 training samples done.\n"
     ]
    },
    {
     "name": "stderr",
     "output_type": "stream",
     "text": [
      "Train Loss: -6988.362, Test Loss: -6940.971: 100%|██████████| 200/200 [00:12<00:00, 16.18it/s]\n",
      "Train Loss: -13432.639, Test Loss: -13392.950: 100%|██████████| 200/200 [00:55<00:00,  3.61it/s]\n"
     ]
    },
    {
     "name": "stdout",
     "output_type": "stream",
     "text": [
      "2th experiment with 10 training samples done.\n"
     ]
    },
    {
     "name": "stderr",
     "output_type": "stream",
     "text": [
      "Train Loss: -7049.574, Test Loss: -7028.996: 100%|██████████| 200/200 [00:11<00:00, 17.85it/s]\n",
      "Train Loss: -13449.666, Test Loss: -13470.027: 100%|██████████| 200/200 [00:54<00:00,  3.66it/s]\n"
     ]
    },
    {
     "name": "stdout",
     "output_type": "stream",
     "text": [
      "3th experiment with 10 training samples done.\n"
     ]
    },
    {
     "name": "stderr",
     "output_type": "stream",
     "text": [
      "Train Loss: -7811.268, Test Loss: -7810.236: 100%|██████████| 200/200 [00:11<00:00, 17.55it/s]\n",
      "Train Loss: -14114.062, Test Loss: -14141.777: 100%|██████████| 200/200 [00:54<00:00,  3.64it/s]\n"
     ]
    },
    {
     "name": "stdout",
     "output_type": "stream",
     "text": [
      "4th experiment with 10 training samples done.\n"
     ]
    },
    {
     "name": "stderr",
     "output_type": "stream",
     "text": [
      "Train Loss: -6663.408, Test Loss: -6637.399: 100%|██████████| 200/200 [00:11<00:00, 17.76it/s]\n",
      "Train Loss: -13017.281, Test Loss: -12983.538: 100%|██████████| 200/200 [00:55<00:00,  3.63it/s]\n"
     ]
    },
    {
     "name": "stdout",
     "output_type": "stream",
     "text": [
      "5th experiment with 10 training samples done.\n"
     ]
    },
    {
     "name": "stderr",
     "output_type": "stream",
     "text": [
      "Train Loss: -7445.385, Test Loss: -7486.233: 100%|██████████| 200/200 [00:11<00:00, 17.19it/s]\n",
      "Train Loss: -14279.817, Test Loss: -14297.049: 100%|██████████| 200/200 [00:55<00:00,  3.61it/s]\n"
     ]
    },
    {
     "name": "stdout",
     "output_type": "stream",
     "text": [
      "6th experiment with 10 training samples done.\n"
     ]
    },
    {
     "name": "stderr",
     "output_type": "stream",
     "text": [
      "Train Loss: -6592.822, Test Loss: -6615.749: 100%|██████████| 200/200 [00:11<00:00, 17.77it/s]\n",
      "Train Loss: -13196.863, Test Loss: -13165.541: 100%|██████████| 200/200 [00:55<00:00,  3.61it/s]\n"
     ]
    },
    {
     "name": "stdout",
     "output_type": "stream",
     "text": [
      "7th experiment with 10 training samples done.\n"
     ]
    },
    {
     "name": "stderr",
     "output_type": "stream",
     "text": [
      "Train Loss: -7813.373, Test Loss: -7798.493: 100%|██████████| 200/200 [00:11<00:00, 16.88it/s]\n",
      "Train Loss: -14006.417, Test Loss: -14054.299: 100%|██████████| 200/200 [00:56<00:00,  3.54it/s]\n"
     ]
    },
    {
     "name": "stdout",
     "output_type": "stream",
     "text": [
      "8th experiment with 10 training samples done.\n"
     ]
    },
    {
     "name": "stderr",
     "output_type": "stream",
     "text": [
      "Train Loss: -6274.820, Test Loss: -6239.501: 100%|██████████| 200/200 [00:11<00:00, 17.40it/s]\n",
      "Train Loss: -12540.293, Test Loss: -12499.780: 100%|██████████| 200/200 [00:57<00:00,  3.47it/s]\n"
     ]
    },
    {
     "name": "stdout",
     "output_type": "stream",
     "text": [
      "9th experiment with 10 training samples done.\n"
     ]
    },
    {
     "name": "stderr",
     "output_type": "stream",
     "text": [
      "Train Loss: -21984.783, Test Loss: -21875.191: 100%|██████████| 200/200 [00:22<00:00,  8.75it/s]\n",
      "Train Loss: -29752.743, Test Loss: -29815.455: 100%|██████████| 200/200 [01:05<00:00,  3.03it/s]\n"
     ]
    },
    {
     "name": "stdout",
     "output_type": "stream",
     "text": [
      "0th experiment with 20 training samples done.\n"
     ]
    },
    {
     "name": "stderr",
     "output_type": "stream",
     "text": [
      "Train Loss: -20322.168, Test Loss: -20335.264: 100%|██████████| 200/200 [00:21<00:00,  9.14it/s]\n",
      "Train Loss: -28299.722, Test Loss: -28341.703: 100%|██████████| 200/200 [01:06<00:00,  3.02it/s]\n"
     ]
    },
    {
     "name": "stdout",
     "output_type": "stream",
     "text": [
      "1th experiment with 20 training samples done.\n"
     ]
    },
    {
     "name": "stderr",
     "output_type": "stream",
     "text": [
      "Train Loss: -20053.938, Test Loss: -19952.609: 100%|██████████| 200/200 [00:21<00:00,  9.29it/s]\n",
      "Train Loss: -27820.981, Test Loss: -27793.775: 100%|██████████| 200/200 [01:05<00:00,  3.06it/s]\n"
     ]
    },
    {
     "name": "stdout",
     "output_type": "stream",
     "text": [
      "2th experiment with 20 training samples done.\n"
     ]
    },
    {
     "name": "stderr",
     "output_type": "stream",
     "text": [
      "Train Loss: -22232.295, Test Loss: -22198.232: 100%|██████████| 200/200 [00:21<00:00,  9.35it/s]\n",
      "Train Loss: -30073.510, Test Loss: -29972.920: 100%|██████████| 200/200 [01:06<00:00,  3.00it/s]\n"
     ]
    },
    {
     "name": "stdout",
     "output_type": "stream",
     "text": [
      "3th experiment with 20 training samples done.\n"
     ]
    },
    {
     "name": "stderr",
     "output_type": "stream",
     "text": [
      "Train Loss: -21728.714, Test Loss: -21791.258: 100%|██████████| 200/200 [00:21<00:00,  9.36it/s]\n",
      "Train Loss: -29461.048, Test Loss: -29402.066: 100%|██████████| 200/200 [01:05<00:00,  3.07it/s]\n"
     ]
    },
    {
     "name": "stdout",
     "output_type": "stream",
     "text": [
      "4th experiment with 20 training samples done.\n"
     ]
    },
    {
     "name": "stderr",
     "output_type": "stream",
     "text": [
      "Train Loss: -20785.441, Test Loss: -20753.514: 100%|██████████| 200/200 [00:20<00:00,  9.64it/s]\n",
      "Train Loss: -28782.387, Test Loss: -28800.938: 100%|██████████| 200/200 [01:04<00:00,  3.09it/s]\n"
     ]
    },
    {
     "name": "stdout",
     "output_type": "stream",
     "text": [
      "5th experiment with 20 training samples done.\n"
     ]
    },
    {
     "name": "stderr",
     "output_type": "stream",
     "text": [
      "Train Loss: -19924.250, Test Loss: -19972.260: 100%|██████████| 200/200 [00:21<00:00,  9.44it/s]\n",
      "Train Loss: -27658.498, Test Loss: -27733.910: 100%|██████████| 200/200 [01:05<00:00,  3.06it/s]\n"
     ]
    },
    {
     "name": "stdout",
     "output_type": "stream",
     "text": [
      "6th experiment with 20 training samples done.\n"
     ]
    },
    {
     "name": "stderr",
     "output_type": "stream",
     "text": [
      "Train Loss: -19460.864, Test Loss: -19560.775: 100%|██████████| 200/200 [00:20<00:00,  9.58it/s]\n",
      "Train Loss: -27053.165, Test Loss: -27073.967: 100%|██████████| 200/200 [01:04<00:00,  3.10it/s]\n"
     ]
    },
    {
     "name": "stdout",
     "output_type": "stream",
     "text": [
      "7th experiment with 20 training samples done.\n"
     ]
    },
    {
     "name": "stderr",
     "output_type": "stream",
     "text": [
      "Train Loss: -20399.522, Test Loss: -20498.016: 100%|██████████| 200/200 [00:21<00:00,  9.24it/s]\n",
      "Train Loss: -28291.878, Test Loss: -28265.705: 100%|██████████| 200/200 [01:05<00:00,  3.06it/s]\n"
     ]
    },
    {
     "name": "stdout",
     "output_type": "stream",
     "text": [
      "8th experiment with 20 training samples done.\n"
     ]
    },
    {
     "name": "stderr",
     "output_type": "stream",
     "text": [
      "Train Loss: -20159.583, Test Loss: -20168.803: 100%|██████████| 200/200 [00:21<00:00,  9.51it/s]\n",
      "Train Loss: -27958.174, Test Loss: -27938.934: 100%|██████████| 200/200 [01:05<00:00,  3.04it/s]\n"
     ]
    },
    {
     "name": "stdout",
     "output_type": "stream",
     "text": [
      "9th experiment with 20 training samples done.\n"
     ]
    },
    {
     "name": "stderr",
     "output_type": "stream",
     "text": [
      "Train Loss: -37176.449, Test Loss: -37198.270: 100%|██████████| 200/200 [00:36<00:00,  5.44it/s]\n",
      "Train Loss: -45579.352, Test Loss: -45531.781: 100%|██████████| 200/200 [01:23<00:00,  2.40it/s]\n"
     ]
    },
    {
     "name": "stdout",
     "output_type": "stream",
     "text": [
      "0th experiment with 30 training samples done.\n"
     ]
    },
    {
     "name": "stderr",
     "output_type": "stream",
     "text": [
      "Train Loss: -36230.516, Test Loss: -36175.922: 100%|██████████| 200/200 [00:37<00:00,  5.40it/s]\n",
      "Train Loss: -44814.624, Test Loss: -44675.336: 100%|██████████| 200/200 [01:29<00:00,  2.25it/s]\n"
     ]
    },
    {
     "name": "stdout",
     "output_type": "stream",
     "text": [
      "1th experiment with 30 training samples done.\n"
     ]
    },
    {
     "name": "stderr",
     "output_type": "stream",
     "text": [
      "Train Loss: -35470.345, Test Loss: -35550.652: 100%|██████████| 200/200 [00:38<00:00,  5.23it/s]\n",
      "Train Loss: -44101.441, Test Loss: -44011.090: 100%|██████████| 200/200 [01:23<00:00,  2.38it/s]\n"
     ]
    },
    {
     "name": "stdout",
     "output_type": "stream",
     "text": [
      "2th experiment with 30 training samples done.\n"
     ]
    },
    {
     "name": "stderr",
     "output_type": "stream",
     "text": [
      "Train Loss: -35166.934, Test Loss: -35239.180: 100%|██████████| 200/200 [00:37<00:00,  5.35it/s]\n",
      "Train Loss: -43730.996, Test Loss: -43780.148: 100%|██████████| 200/200 [01:24<00:00,  2.37it/s]\n"
     ]
    },
    {
     "name": "stdout",
     "output_type": "stream",
     "text": [
      "3th experiment with 30 training samples done.\n"
     ]
    },
    {
     "name": "stderr",
     "output_type": "stream",
     "text": [
      "Train Loss: -34749.233, Test Loss: -34746.023: 100%|██████████| 200/200 [00:37<00:00,  5.31it/s]\n",
      "Train Loss: -43551.188, Test Loss: -43518.352: 100%|██████████| 200/200 [01:25<00:00,  2.34it/s]\n"
     ]
    },
    {
     "name": "stdout",
     "output_type": "stream",
     "text": [
      "4th experiment with 30 training samples done.\n"
     ]
    },
    {
     "name": "stderr",
     "output_type": "stream",
     "text": [
      "Train Loss: -36352.180, Test Loss: -36368.660: 100%|██████████| 200/200 [00:37<00:00,  5.38it/s]\n",
      "Train Loss: -44672.193, Test Loss: -44874.781: 100%|██████████| 200/200 [01:24<00:00,  2.36it/s]\n"
     ]
    },
    {
     "name": "stdout",
     "output_type": "stream",
     "text": [
      "5th experiment with 30 training samples done.\n"
     ]
    },
    {
     "name": "stderr",
     "output_type": "stream",
     "text": [
      "Train Loss: -36043.319, Test Loss: -35918.383: 100%|██████████| 200/200 [00:38<00:00,  5.26it/s]\n",
      "Train Loss: -44539.109, Test Loss: -44420.422: 100%|██████████| 200/200 [01:24<00:00,  2.36it/s]\n"
     ]
    },
    {
     "name": "stdout",
     "output_type": "stream",
     "text": [
      "6th experiment with 30 training samples done.\n"
     ]
    },
    {
     "name": "stderr",
     "output_type": "stream",
     "text": [
      "Train Loss: -39647.228, Test Loss: -39481.488: 100%|██████████| 200/200 [00:37<00:00,  5.36it/s]\n",
      "Train Loss: -48056.755, Test Loss: -47915.516: 100%|██████████| 200/200 [01:25<00:00,  2.34it/s]\n"
     ]
    },
    {
     "name": "stdout",
     "output_type": "stream",
     "text": [
      "7th experiment with 30 training samples done.\n"
     ]
    },
    {
     "name": "stderr",
     "output_type": "stream",
     "text": [
      "Train Loss: -37677.219, Test Loss: -37692.328: 100%|██████████| 200/200 [00:38<00:00,  5.26it/s]\n",
      "Train Loss: -46260.049, Test Loss: -46169.254: 100%|██████████| 200/200 [01:25<00:00,  2.35it/s]\n"
     ]
    },
    {
     "name": "stdout",
     "output_type": "stream",
     "text": [
      "8th experiment with 30 training samples done.\n"
     ]
    },
    {
     "name": "stderr",
     "output_type": "stream",
     "text": [
      "Train Loss: -36574.967, Test Loss: -36560.387: 100%|██████████| 200/200 [00:37<00:00,  5.37it/s]\n",
      "Train Loss: -45192.926, Test Loss: -45011.734: 100%|██████████| 200/200 [01:24<00:00,  2.36it/s]\n"
     ]
    },
    {
     "name": "stdout",
     "output_type": "stream",
     "text": [
      "9th experiment with 30 training samples done.\n"
     ]
    },
    {
     "name": "stderr",
     "output_type": "stream",
     "text": [
      "Train Loss: -68271.141, Test Loss: -68283.414: 100%|██████████| 200/200 [01:34<00:00,  2.11it/s]\n",
      "Train Loss: -77532.995, Test Loss: -77658.867: 100%|██████████| 200/200 [02:27<00:00,  1.36it/s]\n"
     ]
    },
    {
     "name": "stdout",
     "output_type": "stream",
     "text": [
      "0th experiment with 50 training samples done.\n"
     ]
    },
    {
     "name": "stderr",
     "output_type": "stream",
     "text": [
      "Train Loss: -68343.967, Test Loss: -68224.703: 100%|██████████| 200/200 [01:40<00:00,  1.98it/s]\n",
      "Train Loss: -77164.680, Test Loss: -77495.547: 100%|██████████| 200/200 [02:18<00:00,  1.45it/s]\n"
     ]
    },
    {
     "name": "stdout",
     "output_type": "stream",
     "text": [
      "1th experiment with 50 training samples done.\n"
     ]
    },
    {
     "name": "stderr",
     "output_type": "stream",
     "text": [
      "Train Loss: -67413.555, Test Loss: -67441.477: 100%|██████████| 200/200 [01:29<00:00,  2.22it/s]\n",
      "Train Loss: -76508.995, Test Loss: -76742.008: 100%|██████████| 200/200 [02:23<00:00,  1.39it/s]\n"
     ]
    },
    {
     "name": "stdout",
     "output_type": "stream",
     "text": [
      "2th experiment with 50 training samples done.\n"
     ]
    },
    {
     "name": "stderr",
     "output_type": "stream",
     "text": [
      "Train Loss: -67644.518, Test Loss: -67653.680: 100%|██████████| 200/200 [01:32<00:00,  2.15it/s]\n",
      "Train Loss: -76728.786, Test Loss: -76820.180: 100%|██████████| 200/200 [02:18<00:00,  1.44it/s]\n"
     ]
    },
    {
     "name": "stdout",
     "output_type": "stream",
     "text": [
      "3th experiment with 50 training samples done.\n"
     ]
    },
    {
     "name": "stderr",
     "output_type": "stream",
     "text": [
      "Train Loss: -65686.062, Test Loss: -65797.203: 100%|██████████| 200/200 [01:31<00:00,  2.19it/s]\n",
      "Train Loss: -75215.115, Test Loss: -75155.188: 100%|██████████| 200/200 [02:24<00:00,  1.38it/s]\n"
     ]
    },
    {
     "name": "stdout",
     "output_type": "stream",
     "text": [
      "4th experiment with 50 training samples done.\n"
     ]
    },
    {
     "name": "stderr",
     "output_type": "stream",
     "text": [
      "Train Loss: -67701.555, Test Loss: -67724.078: 100%|██████████| 200/200 [01:33<00:00,  2.13it/s]\n",
      "Train Loss: -77095.029, Test Loss: -76923.859: 100%|██████████| 200/200 [02:24<00:00,  1.38it/s]\n"
     ]
    },
    {
     "name": "stdout",
     "output_type": "stream",
     "text": [
      "5th experiment with 50 training samples done.\n"
     ]
    },
    {
     "name": "stderr",
     "output_type": "stream",
     "text": [
      "Train Loss: -67227.979, Test Loss: -67099.219: 100%|██████████| 200/200 [01:34<00:00,  2.11it/s]\n",
      "Train Loss: -76062.167, Test Loss: -76481.922: 100%|██████████| 200/200 [02:23<00:00,  1.39it/s]\n"
     ]
    },
    {
     "name": "stdout",
     "output_type": "stream",
     "text": [
      "6th experiment with 50 training samples done.\n"
     ]
    },
    {
     "name": "stderr",
     "output_type": "stream",
     "text": [
      "Train Loss: -67454.857, Test Loss: -67437.195: 100%|██████████| 200/200 [01:35<00:00,  2.09it/s]\n",
      "Train Loss: -76725.922, Test Loss: -76685.820: 100%|██████████| 200/200 [02:27<00:00,  1.36it/s]\n"
     ]
    },
    {
     "name": "stdout",
     "output_type": "stream",
     "text": [
      "7th experiment with 50 training samples done.\n"
     ]
    },
    {
     "name": "stderr",
     "output_type": "stream",
     "text": [
      "Train Loss: -66064.189, Test Loss: -66376.797: 100%|██████████| 200/200 [01:35<00:00,  2.10it/s]\n",
      "Train Loss: -75788.229, Test Loss: -75621.516: 100%|██████████| 200/200 [02:21<00:00,  1.41it/s]\n"
     ]
    },
    {
     "name": "stdout",
     "output_type": "stream",
     "text": [
      "8th experiment with 50 training samples done.\n"
     ]
    },
    {
     "name": "stderr",
     "output_type": "stream",
     "text": [
      "Train Loss: -66428.448, Test Loss: -66668.969: 100%|██████████| 200/200 [01:31<00:00,  2.18it/s]\n",
      "Train Loss: -76002.794, Test Loss: -75921.367: 100%|██████████| 200/200 [02:26<00:00,  1.37it/s]\n"
     ]
    },
    {
     "name": "stdout",
     "output_type": "stream",
     "text": [
      "9th experiment with 50 training samples done.\n"
     ]
    },
    {
     "name": "stderr",
     "output_type": "stream",
     "text": [
      "Train Loss: -118299.086, Test Loss: -117938.703: 100%|██████████| 200/200 [03:28<00:00,  1.04s/it]\n",
      "Train Loss: -128212.411, Test Loss: -128098.109: 100%|██████████| 200/200 [04:41<00:00,  1.41s/it]\n"
     ]
    },
    {
     "name": "stdout",
     "output_type": "stream",
     "text": [
      "0th experiment with 80 training samples done.\n"
     ]
    },
    {
     "name": "stderr",
     "output_type": "stream",
     "text": [
      "Train Loss: -118458.909, Test Loss: -118339.023: 100%|██████████| 200/200 [03:33<00:00,  1.07s/it]\n",
      "Train Loss: -128507.292, Test Loss: -128441.766: 100%|██████████| 200/200 [04:40<00:00,  1.40s/it]\n"
     ]
    },
    {
     "name": "stdout",
     "output_type": "stream",
     "text": [
      "1th experiment with 80 training samples done.\n"
     ]
    },
    {
     "name": "stderr",
     "output_type": "stream",
     "text": [
      "Train Loss: -116841.333, Test Loss: -116905.672: 100%|██████████| 200/200 [03:35<00:00,  1.08s/it]\n",
      "Train Loss: -127284.076, Test Loss: -127147.945: 100%|██████████| 200/200 [04:53<00:00,  1.47s/it]\n"
     ]
    },
    {
     "name": "stdout",
     "output_type": "stream",
     "text": [
      "2th experiment with 80 training samples done.\n"
     ]
    },
    {
     "name": "stderr",
     "output_type": "stream",
     "text": [
      "Train Loss: -116497.138, Test Loss: -117159.773: 100%|██████████| 200/200 [03:32<00:00,  1.06s/it]\n",
      "Train Loss: -127309.305, Test Loss: -127380.297: 100%|██████████| 200/200 [04:42<00:00,  1.41s/it]\n"
     ]
    },
    {
     "name": "stdout",
     "output_type": "stream",
     "text": [
      "3th experiment with 80 training samples done.\n"
     ]
    },
    {
     "name": "stderr",
     "output_type": "stream",
     "text": [
      "Train Loss: -116507.154, Test Loss: -116203.836: 100%|██████████| 200/200 [03:38<00:00,  1.09s/it]\n",
      "Train Loss: -126766.919, Test Loss: -126468.141: 100%|██████████| 200/200 [04:54<00:00,  1.47s/it]\n"
     ]
    },
    {
     "name": "stdout",
     "output_type": "stream",
     "text": [
      "4th experiment with 80 training samples done.\n"
     ]
    },
    {
     "name": "stderr",
     "output_type": "stream",
     "text": [
      "Train Loss: -117607.552, Test Loss: -117896.133: 100%|██████████| 200/200 [03:27<00:00,  1.04s/it]\n",
      "Train Loss: -127797.630, Test Loss: -128264.773: 100%|██████████| 200/200 [04:30<00:00,  1.35s/it]\n"
     ]
    },
    {
     "name": "stdout",
     "output_type": "stream",
     "text": [
      "5th experiment with 80 training samples done.\n"
     ]
    },
    {
     "name": "stderr",
     "output_type": "stream",
     "text": [
      "Train Loss: -118118.789, Test Loss: -118259.992: 100%|██████████| 200/200 [03:25<00:00,  1.03s/it]\n",
      "Train Loss: -128359.294, Test Loss: -128477.852: 100%|██████████| 200/200 [04:22<00:00,  1.31s/it]\n"
     ]
    },
    {
     "name": "stdout",
     "output_type": "stream",
     "text": [
      "6th experiment with 80 training samples done.\n"
     ]
    },
    {
     "name": "stderr",
     "output_type": "stream",
     "text": [
      "Train Loss: -117298.839, Test Loss: -117402.461: 100%|██████████| 200/200 [03:30<00:00,  1.05s/it]\n",
      "Train Loss: -127492.221, Test Loss: -127603.812: 100%|██████████| 200/200 [04:23<00:00,  1.32s/it]\n"
     ]
    },
    {
     "name": "stdout",
     "output_type": "stream",
     "text": [
      "7th experiment with 80 training samples done.\n"
     ]
    },
    {
     "name": "stderr",
     "output_type": "stream",
     "text": [
      "Train Loss: -117167.841, Test Loss: -117108.625: 100%|██████████| 200/200 [03:32<00:00,  1.06s/it]\n",
      "Train Loss: -127388.628, Test Loss: -127366.734: 100%|██████████| 200/200 [04:20<00:00,  1.30s/it]\n"
     ]
    },
    {
     "name": "stdout",
     "output_type": "stream",
     "text": [
      "8th experiment with 80 training samples done.\n"
     ]
    },
    {
     "name": "stderr",
     "output_type": "stream",
     "text": [
      "Train Loss: -118450.555, Test Loss: -118458.773: 100%|██████████| 200/200 [03:36<00:00,  1.08s/it]\n",
      "Train Loss: -128654.302, Test Loss: -128557.133: 100%|██████████| 200/200 [04:41<00:00,  1.41s/it]\n"
     ]
    },
    {
     "name": "stdout",
     "output_type": "stream",
     "text": [
      "9th experiment with 80 training samples done.\n"
     ]
    }
   ],
   "source": [
    "MasterIndices = np.arange(obsTrain.shape[0])\n",
    "for n in nTrain:\n",
    "    \n",
    "    ActNumTestSamples = min(numTestSamples, (obsTrain.shape[0] - n))\n",
    "    logScore_tm = torch.zeros(numExpReps)\n",
    "    logScore_shrink = torch.zeros(numExpReps)\n",
    "    ModifNumTestSamples = (ActNumTestSamples * torch.ones(numExpReps))\n",
    "    for i in range(numExpReps):\n",
    "        indices = np.random.choice(MasterIndices, n, replace=False)\n",
    "        obsTrainSub = obsTrain[indices, :]\n",
    "        if obsTrainSub.dim() == 1:\n",
    "            obsTrainSub = obsTrainSub.unsqueeze(0)\n",
    "\n",
    "        data = Data.new(torch.as_tensor(locsTrain).float(), obsTrainSub, torch.as_tensor(nn))\n",
    "\n",
    "        tm = SimpleTM(data, theta_init=None, linear=False, smooth=1.5, nug_mult=4.0)\n",
    "        opt = torch.optim.Adam(tm.parameters(), lr=0.01)\n",
    "        sched = torch.optim.lr_scheduler.CosineAnnealingLR(opt, nsteps)\n",
    "        res = tm.fit(\n",
    "            nsteps, 0.1, test_data=tm.data, optimizer=opt, scheduler=sched, batch_size=900\n",
    "        )\n",
    "\n",
    "        shrink_tm = EstimableShrinkTM(data=data, linear=False, \n",
    "                            transportmap_smooth=1.5, \n",
    "                            parametric_kernel= \"exponential\",\n",
    "                            param_nu=0.5,\n",
    "                            param_ls=0.6,\n",
    "                            nug_mult_bounded=False)\n",
    "        opt2 = torch.optim.Adam(shrink_tm.parameters(), lr=0.01)\n",
    "        sched2 = torch.optim.lr_scheduler.CosineAnnealingLR(opt2, nsteps)\n",
    "        res2 = shrink_tm.fit(\n",
    "            nsteps, 0.1, test_data=shrink_tm.data, optimizer=opt2, scheduler=sched2, batch_size=900,\n",
    "\n",
    "        )\n",
    "        tm_models.append(tm)\n",
    "        shrink_models.append(shrink_tm)\n",
    "        TestIndices = np.setdiff1d(MasterIndices, indices)\n",
    "        for _j in range(ActNumTestSamples):\n",
    "            try:\n",
    "                with torch.no_grad():\n",
    "                    logScore_tm[i] += tm.score(obsTrain[(TestIndices[_j]), :])\n",
    "                logScore_shrink[i] += shrink_tm.score(obsTrain[(TestIndices[_j]), :])\n",
    "            except:\n",
    "                ModifNumTestSamples[i] -= 1\n",
    "                continue\n",
    "        print(f\"{i}th experiment with {n} training samples done.\")\n",
    "    ModifNumTestSampleslist.append(ModifNumTestSamples)\n",
    "    logscores_tm.append(logScore_tm)\n",
    "    logscores_shrink.append(logScore_shrink)\n",
    "        "
   ]
  },
  {
   "cell_type": "code",
   "execution_count": 18,
   "metadata": {},
   "outputs": [],
   "source": [
    "torch.save({\n",
    " 'logscores_tm': logscores_tm,\n",
    " 'logscores_shrink': logscores_shrink,\n",
    " 'ModifNumTestSampleslist': ModifNumTestSampleslist,\n",
    " 'nTrain': nTrain,\n",
    "}, '../results/dup_precipresults_americas.pt')"
   ]
  },
  {
   "cell_type": "code",
   "execution_count": 19,
   "metadata": {},
   "outputs": [],
   "source": [
    "precipmodels = {\n",
    "    'tm_models': tm_models,\n",
    " 'shrink_models': shrink_models,  \n",
    "}\n",
    "\n",
    "with open('../results/dup_precipmodels_americas.pkl', 'wb') as f:\n",
    "    pickle.dump(precipmodels, f)"
   ]
  }
 ],
 "metadata": {
  "kernelspec": {
   "display_name": "shrink2param",
   "language": "python",
   "name": "python3"
  },
  "language_info": {
   "codemirror_mode": {
    "name": "ipython",
    "version": 3
   },
   "file_extension": ".py",
   "mimetype": "text/x-python",
   "name": "python",
   "nbconvert_exporter": "python",
   "pygments_lexer": "ipython3",
   "version": "3.10.14"
  }
 },
 "nbformat": 4,
 "nbformat_minor": 2
}
