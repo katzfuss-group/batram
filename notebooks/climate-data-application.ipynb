{
 "cells": [
  {
   "cell_type": "code",
   "execution_count": 1,
   "metadata": {},
   "outputs": [
    {
     "name": "stderr",
     "output_type": "stream",
     "text": [
      "/home/anirban0451/miniconda3/envs/shrink2param/lib/python3.12/site-packages/tqdm/auto.py:21: TqdmWarning: IProgress not found. Please update jupyter and ipywidgets. See https://ipywidgets.readthedocs.io/en/stable/user_install.html\n",
      "  from .autonotebook import tqdm as notebook_tqdm\n"
     ]
    }
   ],
   "source": [
    "import pickle\n",
    "import math\n",
    "\n",
    "import torch\n",
    "import numpy as np\n",
    "from veccs import orderings\n",
    "from gpytorch.kernels import MaternKernel\n",
    "from sklearn.gaussian_process import kernels\n",
    "from matplotlib import pyplot as plt\n",
    "\n",
    "from batram.legmods import Data, SimpleTM\n",
    "from batram.shrinkmods import ShrinkTM, EstimableShrinkTM\n",
    "\n",
    "%load_ext autoreload\n",
    "%autoreload 2"
   ]
  },
  {
   "cell_type": "markdown",
   "metadata": {},
   "source": [
    "### Reading data"
   ]
  },
  {
   "cell_type": "code",
   "execution_count": 2,
   "metadata": {},
   "outputs": [],
   "source": [
    "\n",
    "with open(\"../data/prec_days.pkl\", \"rb\") as f:\n",
    "    prec_days = pickle.load(f)\n",
    "\n",
    "#with open(\"../data/prec_all.pkl\", \"rb\") as f:\n",
    "#    prec_all = pickle.load(f)\n",
    "\n",
    "#lat = prec_days[\"lat\"]\n",
    "#lon = prec_days[\"lon\"]\n",
    "#obs = np.log(prec_days[\"precs\"][:,:,0].T + 1e-10)\n",
    "locs = np.loadtxt(\"../data/locs.csv\", skiprows=1, delimiter=\",\")\n",
    "lat = locs[:, 1]\n",
    "lon = locs[:, 0]\n",
    "obs = np.loadtxt(\"../data/prec-june1.csv\", skiprows=1, delimiter=\",\").T\n",
    "#l=lon/360*2*math.pi; L=lat/360*2*math.pi\n",
    "#locs = (np.vstack([np.cos(L)*np.cos(l),np.cos(L)*np.sin(l),np.sin(L)])).T"
   ]
  },
  {
   "cell_type": "markdown",
   "metadata": {},
   "source": [
    "### Ordering"
   ]
  },
  {
   "cell_type": "code",
   "execution_count": 3,
   "metadata": {},
   "outputs": [],
   "source": [
    "torch.manual_seed(6132024)\n",
    "locsorder = orderings.maxmin_cpp(locs)\n",
    "locsTrain = locs[locsorder, :]\n",
    "nn = orderings.find_nns_l2(locs, 30)\n",
    "shuffle = torch.randperm(obs.shape[0])\n",
    "\n",
    "obsTrain = torch.from_numpy((obs[shuffle,:])[:, locsorder]).float()"
   ]
  },
  {
   "cell_type": "markdown",
   "metadata": {},
   "source": [
    "### Training"
   ]
  },
  {
   "cell_type": "code",
   "execution_count": 4,
   "metadata": {},
   "outputs": [],
   "source": [
    "nsteps = 200\n",
    "nTrain = [1, 5, 10, 25, 50, 80]"
   ]
  },
  {
   "cell_type": "code",
   "execution_count": 5,
   "metadata": {},
   "outputs": [],
   "source": [
    "logscores_tm = []\n",
    "logscores_shrink = []\n",
    "numExpReps = 10\n",
    "tm_models = []\n",
    "shrink_models = []\n",
    "numTestSamples = 50\n",
    "ModifNumTestSampleslist = []"
   ]
  },
  {
   "cell_type": "code",
   "execution_count": 6,
   "metadata": {},
   "outputs": [
    {
     "name": "stderr",
     "output_type": "stream",
     "text": [
      "Train Loss: 1495.723, Test Loss: 1492.607: 100%|██████████| 200/200 [00:03<00:00, 58.16it/s]\n",
      "Train Loss: 959.330, Test Loss: 955.795: 100%|██████████| 200/200 [00:55<00:00,  3.62it/s] \n",
      "Train Loss: 1067.906, Test Loss: 1075.357: 100%|██████████| 200/200 [00:04<00:00, 48.75it/s]\n",
      "Train Loss: 535.399, Test Loss: 535.289: 100%|██████████| 200/200 [00:55<00:00,  3.63it/s]\n",
      "Train Loss: 1518.737, Test Loss: 1522.786: 100%|██████████| 200/200 [00:03<00:00, 52.98it/s]\n",
      "Train Loss: 980.516, Test Loss: 972.623: 100%|██████████| 200/200 [00:47<00:00,  4.22it/s] \n",
      "Train Loss: 1505.125, Test Loss: 1508.080: 100%|██████████| 200/200 [00:04<00:00, 47.25it/s]\n",
      "Train Loss: 961.840, Test Loss: 957.473: 100%|██████████| 200/200 [00:47<00:00,  4.22it/s] \n",
      "Train Loss: 1355.652, Test Loss: 1354.708: 100%|██████████| 200/200 [00:04<00:00, 47.03it/s]\n",
      "Train Loss: 907.299, Test Loss: 906.718: 100%|██████████| 200/200 [00:50<00:00,  3.99it/s] \n",
      "Train Loss: 1379.951, Test Loss: 1377.866: 100%|██████████| 200/200 [00:04<00:00, 45.54it/s]\n",
      "Train Loss: 786.841, Test Loss: 796.013: 100%|██████████| 200/200 [00:52<00:00,  3.80it/s] \n",
      "Train Loss: 1631.940, Test Loss: 1635.061: 100%|██████████| 200/200 [00:11<00:00, 17.35it/s]\n",
      "Train Loss: 1056.781, Test Loss: 1056.338: 100%|██████████| 200/200 [01:27<00:00,  2.30it/s]\n",
      "Train Loss: 1884.853, Test Loss: 1882.128: 100%|██████████| 200/200 [00:09<00:00, 22.20it/s]\n",
      "Train Loss: 1012.608, Test Loss: 1023.956: 100%|██████████| 200/200 [01:27<00:00,  2.30it/s]\n",
      "Train Loss: 1129.869, Test Loss: 1132.152: 100%|██████████| 200/200 [00:08<00:00, 24.30it/s]\n",
      "Train Loss: 540.518, Test Loss: 543.018: 100%|██████████| 200/200 [01:23<00:00,  2.39it/s] \n",
      "Train Loss: 1137.912, Test Loss: 1141.589: 100%|██████████| 200/200 [00:09<00:00, 21.93it/s]\n",
      "Train Loss: 597.723, Test Loss: 604.116: 100%|██████████| 200/200 [01:26<00:00,  2.30it/s] \n",
      "Train Loss: 5877.347, Test Loss: 5861.341: 100%|██████████| 200/200 [00:16<00:00, 11.97it/s]\n",
      "Train Loss: 3267.222, Test Loss: 3251.052: 100%|██████████| 200/200 [01:39<00:00,  2.01it/s]\n",
      "Train Loss: 7593.330, Test Loss: 7602.795: 100%|██████████| 200/200 [00:07<00:00, 25.66it/s]\n",
      "Train Loss: 4619.632, Test Loss: 4618.528: 100%|██████████| 200/200 [00:52<00:00,  3.84it/s]\n",
      "Train Loss: 6196.110, Test Loss: 6218.633: 100%|██████████| 200/200 [00:07<00:00, 25.14it/s]\n",
      "Train Loss: 3445.977, Test Loss: 3454.842: 100%|██████████| 200/200 [01:00<00:00,  3.28it/s]\n",
      "Train Loss: 6333.769, Test Loss: 6337.962: 100%|██████████| 200/200 [00:07<00:00, 27.47it/s]\n",
      "Train Loss: 3548.057, Test Loss: 3555.314: 100%|██████████| 200/200 [00:50<00:00,  3.95it/s]\n",
      "Train Loss: 6769.625, Test Loss: 6770.025: 100%|██████████| 200/200 [00:07<00:00, 28.15it/s]\n",
      "Train Loss: 3935.848, Test Loss: 3925.739: 100%|██████████| 200/200 [00:52<00:00,  3.84it/s]\n",
      "Train Loss: 6715.938, Test Loss: 6710.998: 100%|██████████| 200/200 [00:06<00:00, 28.81it/s]\n",
      "Train Loss: 4037.419, Test Loss: 4025.629: 100%|██████████| 200/200 [00:52<00:00,  3.80it/s]\n",
      "Train Loss: 5851.410, Test Loss: 5838.591: 100%|██████████| 200/200 [00:06<00:00, 28.76it/s]\n",
      "Train Loss: 3158.437, Test Loss: 3123.144: 100%|██████████| 200/200 [00:52<00:00,  3.84it/s]\n",
      "Train Loss: 6585.635, Test Loss: 6600.872: 100%|██████████| 200/200 [00:07<00:00, 26.16it/s]\n",
      "Train Loss: 3697.584, Test Loss: 3685.871: 100%|██████████| 200/200 [01:03<00:00,  3.17it/s]\n",
      "Train Loss: 5719.881, Test Loss: 5706.271: 100%|██████████| 200/200 [00:08<00:00, 24.72it/s]\n",
      "Train Loss: 3471.100, Test Loss: 3451.852: 100%|██████████| 200/200 [00:52<00:00,  3.78it/s]\n",
      "Train Loss: 6477.967, Test Loss: 6475.814: 100%|██████████| 200/200 [00:06<00:00, 29.04it/s]\n",
      "Train Loss: 3916.449, Test Loss: 3895.198: 100%|██████████| 200/200 [00:49<00:00,  4.01it/s]\n",
      "Train Loss: 12516.945, Test Loss: 12504.034: 100%|██████████| 200/200 [00:09<00:00, 21.14it/s]\n",
      "Train Loss: 6593.393, Test Loss: 6572.467: 100%|██████████| 200/200 [00:52<00:00,  3.81it/s] \n",
      "Train Loss: 15323.360, Test Loss: 15332.236: 100%|██████████| 200/200 [00:09<00:00, 20.36it/s]\n",
      "Train Loss: 9267.441, Test Loss: 9243.197: 100%|██████████| 200/200 [00:54<00:00,  3.66it/s] \n",
      "Train Loss: 13666.553, Test Loss: 13663.054: 100%|██████████| 200/200 [00:09<00:00, 20.23it/s]\n",
      "Train Loss: 8135.190, Test Loss: 8156.485: 100%|██████████| 200/200 [00:55<00:00,  3.59it/s] \n",
      "Train Loss: 13650.696, Test Loss: 13636.259: 100%|██████████| 200/200 [00:09<00:00, 20.97it/s]\n",
      "Train Loss: 8100.416, Test Loss: 8076.477: 100%|██████████| 200/200 [00:54<00:00,  3.64it/s] \n",
      "Train Loss: 13093.028, Test Loss: 13079.896: 100%|██████████| 200/200 [00:09<00:00, 20.29it/s]\n",
      "Train Loss: 7272.264, Test Loss: 7239.397: 100%|██████████| 200/200 [00:55<00:00,  3.63it/s] \n",
      "Train Loss: 12859.308, Test Loss: 12847.350: 100%|██████████| 200/200 [00:09<00:00, 20.35it/s]\n",
      "Train Loss: 7392.627, Test Loss: 7417.517: 100%|██████████| 200/200 [00:52<00:00,  3.83it/s] \n",
      "Train Loss: 13528.411, Test Loss: 13523.343: 100%|██████████| 200/200 [00:09<00:00, 21.03it/s]\n",
      "Train Loss: 7976.116, Test Loss: 7985.197: 100%|██████████| 200/200 [00:52<00:00,  3.81it/s] \n",
      "Train Loss: 14264.497, Test Loss: 14271.886: 100%|██████████| 200/200 [00:09<00:00, 20.64it/s]\n",
      "Train Loss: 8574.201, Test Loss: 8565.949: 100%|██████████| 200/200 [00:53<00:00,  3.74it/s] \n",
      "Train Loss: 14439.509, Test Loss: 14445.267: 100%|██████████| 200/200 [00:09<00:00, 20.15it/s]\n",
      "Train Loss: 8687.926, Test Loss: 8646.519: 100%|██████████| 200/200 [00:56<00:00,  3.55it/s] \n",
      "Train Loss: 14361.687, Test Loss: 14358.934: 100%|██████████| 200/200 [00:09<00:00, 20.70it/s]\n",
      "Train Loss: 8579.678, Test Loss: 8581.166: 100%|██████████| 200/200 [00:55<00:00,  3.59it/s] \n",
      "Train Loss: 34472.439, Test Loss: 34469.820: 100%|██████████| 200/200 [00:25<00:00,  7.73it/s]\n",
      "Train Loss: 21287.909, Test Loss: 21333.072: 100%|██████████| 200/200 [01:14<00:00,  2.67it/s]\n",
      "Train Loss: 33494.868, Test Loss: 33510.789: 100%|██████████| 200/200 [00:26<00:00,  7.67it/s]\n",
      "Train Loss: 20358.149, Test Loss: 20362.883: 100%|██████████| 200/200 [01:14<00:00,  2.67it/s]\n",
      "Train Loss: 35330.180, Test Loss: 35326.105: 100%|██████████| 200/200 [00:26<00:00,  7.68it/s]\n",
      "Train Loss: 22199.696, Test Loss: 22186.648: 100%|██████████| 200/200 [01:13<00:00,  2.73it/s]\n",
      "Train Loss: 35601.095, Test Loss: 35568.082: 100%|██████████| 200/200 [00:24<00:00,  8.24it/s]\n",
      "Train Loss: 22402.160, Test Loss: 22426.094: 100%|██████████| 200/200 [01:09<00:00,  2.89it/s]\n",
      "Train Loss: 33875.483, Test Loss: 33857.062: 100%|██████████| 200/200 [00:25<00:00,  7.97it/s]\n",
      "Train Loss: 21045.929, Test Loss: 21028.988: 100%|██████████| 200/200 [01:08<00:00,  2.91it/s]\n",
      "Train Loss: 35015.557, Test Loss: 35039.746: 100%|██████████| 200/200 [00:24<00:00,  8.08it/s]\n",
      "Train Loss: 22071.211, Test Loss: 22056.598: 100%|██████████| 200/200 [01:11<00:00,  2.80it/s]\n",
      "Train Loss: 34327.982, Test Loss: 34284.770: 100%|██████████| 200/200 [00:25<00:00,  7.87it/s]\n",
      "Train Loss: 21298.788, Test Loss: 21295.674: 100%|██████████| 200/200 [01:14<00:00,  2.70it/s]\n",
      "Train Loss: 34728.686, Test Loss: 34727.625: 100%|██████████| 200/200 [00:26<00:00,  7.55it/s]\n",
      "Train Loss: 21294.607, Test Loss: 21251.723: 100%|██████████| 200/200 [01:12<00:00,  2.76it/s]\n",
      "Train Loss: 34007.234, Test Loss: 34010.418: 100%|██████████| 200/200 [00:25<00:00,  7.72it/s]\n",
      "Train Loss: 20887.133, Test Loss: 20971.291: 100%|██████████| 200/200 [01:13<00:00,  2.73it/s]\n",
      "Train Loss: 32957.352, Test Loss: 32936.836: 100%|██████████| 200/200 [00:25<00:00,  7.69it/s]\n",
      "Train Loss: 19818.674, Test Loss: 19785.645: 100%|██████████| 200/200 [01:13<00:00,  2.72it/s]\n",
      "Train Loss: 64523.142, Test Loss: 64586.496: 100%|██████████| 200/200 [01:51<00:00,  1.79it/s]\n",
      "Train Loss: 43058.689, Test Loss: 43099.172: 100%|██████████| 200/200 [02:44<00:00,  1.22it/s]\n",
      "Train Loss: 63137.898, Test Loss: 63128.781: 100%|██████████| 200/200 [01:43<00:00,  1.93it/s]\n",
      "Train Loss: 41727.130, Test Loss: 41834.465: 100%|██████████| 200/200 [02:22<00:00,  1.41it/s]\n",
      "Train Loss: 61927.659, Test Loss: 61968.367: 100%|██████████| 200/200 [01:38<00:00,  2.04it/s]\n",
      "Train Loss: 40190.000, Test Loss: 40337.172: 100%|██████████| 200/200 [02:18<00:00,  1.44it/s]\n",
      "Train Loss: 61379.432, Test Loss: 61348.809: 100%|██████████| 200/200 [02:11<00:00,  1.52it/s]\n",
      "Train Loss: 39711.257, Test Loss: 39695.348: 100%|██████████| 200/200 [02:39<00:00,  1.26it/s]\n",
      "Train Loss: 63763.276, Test Loss: 63762.715: 100%|██████████| 200/200 [02:15<00:00,  1.47it/s]\n",
      "Train Loss: 41715.462, Test Loss: 41713.484: 100%|██████████| 200/200 [03:02<00:00,  1.09it/s]\n",
      "Train Loss: 62301.302, Test Loss: 62353.453: 100%|██████████| 200/200 [02:08<00:00,  1.56it/s]\n",
      "Train Loss: 40888.059, Test Loss: 40905.203: 100%|██████████| 200/200 [02:59<00:00,  1.11it/s]\n",
      "Train Loss: 63824.475, Test Loss: 63861.828: 100%|██████████| 200/200 [01:59<00:00,  1.67it/s]\n",
      "Train Loss: 42952.199, Test Loss: 42794.539: 100%|██████████| 200/200 [02:42<00:00,  1.23it/s]\n",
      "Train Loss: 60647.141, Test Loss: 60537.953: 100%|██████████| 200/200 [02:18<00:00,  1.45it/s]\n",
      "Train Loss: 39244.858, Test Loss: 39214.156: 100%|██████████| 200/200 [03:41<00:00,  1.11s/it]\n",
      "Train Loss: 60960.316, Test Loss: 60971.691: 100%|██████████| 200/200 [01:57<00:00,  1.70it/s]\n",
      "Train Loss: 39063.113, Test Loss: 39112.578: 100%|██████████| 200/200 [02:45<00:00,  1.21it/s]\n",
      "Train Loss: 62778.583, Test Loss: 62763.414: 100%|██████████| 200/200 [01:59<00:00,  1.68it/s]\n",
      "Train Loss: 41182.559, Test Loss: 41266.105: 100%|██████████| 200/200 [02:42<00:00,  1.23it/s]\n",
      "Train Loss: 94743.812, Test Loss: 94684.375: 100%|██████████| 200/200 [04:41<00:00,  1.41s/it] \n",
      "Train Loss: 66329.430, Test Loss: 66358.938: 100%|██████████| 200/200 [04:59<00:00,  1.50s/it] \n",
      "Train Loss: 96422.799, Test Loss: 96538.898: 100%|██████████| 200/200 [03:46<00:00,  1.13s/it] \n",
      "Train Loss: 67564.646, Test Loss: 67556.586: 100%|██████████| 200/200 [04:16<00:00,  1.28s/it] \n",
      "Train Loss: 96059.208, Test Loss: 95957.742: 100%|██████████| 200/200 [03:50<00:00,  1.15s/it] \n",
      "Train Loss: 67461.188, Test Loss: 67345.891: 100%|██████████| 200/200 [04:29<00:00,  1.35s/it] \n",
      "Train Loss: 95053.542, Test Loss: 94873.367: 100%|██████████| 200/200 [03:47<00:00,  1.14s/it] \n",
      "Train Loss: 66246.257, Test Loss: 66228.344: 100%|██████████| 200/200 [04:23<00:00,  1.32s/it] \n",
      "Train Loss: 95235.865, Test Loss: 95240.789: 100%|██████████| 200/200 [04:04<00:00,  1.22s/it] \n",
      "Train Loss: 66643.111, Test Loss: 66701.125: 100%|██████████| 200/200 [04:38<00:00,  1.39s/it] \n",
      "Train Loss: 93262.445, Test Loss: 93074.141: 100%|██████████| 200/200 [04:21<00:00,  1.31s/it]\n",
      "Train Loss: 64343.589, Test Loss: 64412.312: 100%|██████████| 200/200 [04:40<00:00,  1.40s/it] \n",
      "Train Loss: 92500.273, Test Loss: 92592.375: 100%|██████████| 200/200 [03:53<00:00,  1.17s/it]\n",
      "Train Loss: 63584.005, Test Loss: 63767.375: 100%|██████████| 200/200 [04:23<00:00,  1.32s/it] \n",
      "Train Loss: 96154.052, Test Loss: 96116.273: 100%|██████████| 200/200 [04:24<00:00,  1.32s/it] \n",
      "Train Loss: 67478.337, Test Loss: 67357.406: 100%|██████████| 200/200 [04:23<00:00,  1.32s/it] \n",
      "Train Loss: 95404.672, Test Loss: 95441.336: 100%|██████████| 200/200 [03:49<00:00,  1.15s/it] \n",
      "Train Loss: 66591.258, Test Loss: 66842.633: 100%|██████████| 200/200 [04:24<00:00,  1.32s/it] \n",
      "Train Loss: 94965.023, Test Loss: 94950.594: 100%|██████████| 200/200 [03:59<00:00,  1.20s/it] \n",
      "Train Loss: 66107.967, Test Loss: 66310.141: 100%|██████████| 200/200 [04:27<00:00,  1.34s/it] \n"
     ]
    }
   ],
   "source": [
    "MasterIndices = np.arange(obsTrain.shape[0])\n",
    "for n in nTrain:\n",
    "    \n",
    "    ActNumTestSamples = min(numTestSamples, (obsTrain.shape[0] - n))\n",
    "    logScore_tm = torch.zeros(numExpReps)\n",
    "    logScore_shrink = torch.zeros(numExpReps)\n",
    "    ModifNumTestSamples = (ActNumTestSamples * torch.ones(numExpReps))\n",
    "    for i in range(numExpReps):\n",
    "        indices = np.random.choice(MasterIndices, n, replace=False)\n",
    "        obsTrainSub = obsTrain[indices, :]\n",
    "        if obsTrainSub.dim() == 1:\n",
    "            obsTrainSub = obsTrainSub.unsqueeze(0)\n",
    "\n",
    "        data = Data.new(torch.as_tensor(locsTrain).float(), obsTrainSub, torch.as_tensor(nn))\n",
    "\n",
    "        tm = SimpleTM(data, theta_init=None, linear=False, smooth=1.5, nug_mult=4.0)\n",
    "        opt = torch.optim.Adam(tm.parameters(), lr=0.01)\n",
    "        sched = torch.optim.lr_scheduler.CosineAnnealingLR(opt, nsteps)\n",
    "        res = tm.fit(\n",
    "            nsteps, 0.1, test_data=tm.data, optimizer=opt, scheduler=sched, batch_size=900\n",
    "        )\n",
    "\n",
    "        shrink_tm = EstimableShrinkTM(data=data, linear=False, \n",
    "                            transportmap_smooth=1.5, \n",
    "                            parametric_kernel= \"exponential\",\n",
    "                            param_nu=0.5,\n",
    "                            param_ls=0.6,\n",
    "                            nug_mult_bounded=False)\n",
    "        opt2 = torch.optim.Adam(shrink_tm.parameters(), lr=0.01)\n",
    "        sched2 = torch.optim.lr_scheduler.CosineAnnealingLR(opt2, nsteps)\n",
    "        res2 = shrink_tm.fit(\n",
    "            nsteps, 0.1, test_data=shrink_tm.data, optimizer=opt2, scheduler=sched2, batch_size=900,\n",
    "\n",
    "        )\n",
    "        tm_models.append(tm)\n",
    "        shrink_models.append(shrink_tm)\n",
    "        TestIndices = np.setdiff1d(MasterIndices, indices)\n",
    "        for _j in range(ActNumTestSamples):\n",
    "            try:\n",
    "                with torch.no_grad():\n",
    "                    logScore_tm[i] += tm.score(obsTrain[(TestIndices[_j]), :])\n",
    "                logScore_shrink[i] += shrink_tm.score(obsTrain[(TestIndices[_j]), :])\n",
    "            except:\n",
    "                ModifNumTestSamples[i] -= 1\n",
    "                continue\n",
    "\n",
    "    ModifNumTestSampleslist.append(ModifNumTestSamples)\n",
    "    logscores_tm.append(logScore_tm)\n",
    "    logscores_shrink.append(logScore_shrink)\n",
    "        "
   ]
  },
  {
   "cell_type": "code",
   "execution_count": 7,
   "metadata": {},
   "outputs": [],
   "source": [
    "torch.save({\n",
    " 'logscores_tm': logscores_tm,\n",
    " 'logscores_shrink': logscores_shrink,\n",
    " 'ModifNumTestSampleslist': ModifNumTestSampleslist,\n",
    " 'nTrain': nTrain,\n",
    "}, '../results/precipresults_americas.pt')"
   ]
  },
  {
   "cell_type": "code",
   "execution_count": 8,
   "metadata": {},
   "outputs": [],
   "source": [
    "precipmodels = {\n",
    "    'tm_models': tm_models,\n",
    " 'shrink_models': shrink_models,  \n",
    "}\n",
    "\n",
    "with open('../results/precipmodels_americas.pkl', 'wb') as f:\n",
    "    pickle.dump(precipmodels, f)"
   ]
  },
  {
   "cell_type": "code",
   "execution_count": 12,
   "metadata": {},
   "outputs": [],
   "source": [
    "assert len(logscores_shrink) == len(logscores_tm)\n",
    "assert len(logscores_shrink) == len(ModifNumTestSampleslist)"
   ]
  },
  {
   "cell_type": "markdown",
   "metadata": {},
   "source": [
    "### Calculate average log score from experiments"
   ]
  },
  {
   "cell_type": "code",
   "execution_count": 21,
   "metadata": {},
   "outputs": [],
   "source": [
    "finalscore_tm = torch.zeros((len(logscores_tm[0]), len(nTrain)))\n",
    "finalscore_shrink = torch.zeros((len(logscores_shrink[0]), len(nTrain)))"
   ]
  },
  {
   "cell_type": "code",
   "execution_count": 23,
   "metadata": {},
   "outputs": [],
   "source": [
    "for i in range(len(nTrain)):\n",
    "    finalscore_tm[:, i] = logscores_tm[i] / ModifNumTestSampleslist[i]\n",
    "    finalscore_shrink[:, i] = logscores_shrink[i] / ModifNumTestSampleslist[i]"
   ]
  },
  {
   "cell_type": "code",
   "execution_count": 25,
   "metadata": {},
   "outputs": [
    {
     "data": {
      "text/plain": [
       "(tensor([-4803.6855, -3928.0286, -3882.9407, -3746.3887, -3642.7539, -3470.2898]),\n",
       " tensor([-3346.3040, -3348.7156, -3350.4050, -3320.0364, -3351.0579, -3309.7227]))"
      ]
     },
     "execution_count": 25,
     "metadata": {},
     "output_type": "execute_result"
    }
   ],
   "source": [
    "finalscore_tm.mean(dim=0), finalscore_shrink.mean(dim=0)"
   ]
  },
  {
   "cell_type": "code",
   "execution_count": 31,
   "metadata": {},
   "outputs": [
    {
     "data": {
      "image/png": "[encoded data removed]",
      "text/plain": [
       "<Figure size 640x480 with 1 Axes>"
      ]
     },
     "metadata": {},
     "output_type": "display_data"
    }
   ],
   "source": [
    "#plt.plot(torch.arange(len(nTrain)), finalscore_tm.mean(dim=0), label=\"SimpleTM\")\n",
    "plt.plot(torch.arange(len(nTrain)), finalscore_shrink.mean(dim=0), label=\"ShrinkTM\")\n",
    "plt.legend()\n",
    "plt.xticks(torch.arange(len(nTrain)), labels = nTrain);"
   ]
  }
 ],
 "metadata": {
  "kernelspec": {
   "display_name": "shrink2param",
   "language": "python",
   "name": "python3"
  },
  "language_info": {
   "codemirror_mode": {
    "name": "ipython",
    "version": 3
   },
   "file_extension": ".py",
   "mimetype": "text/x-python",
   "name": "python",
   "nbconvert_exporter": "python",
   "pygments_lexer": "ipython3",
   "version": "3.12.3"
  }
 },
 "nbformat": 4,
 "nbformat_minor": 2
}
