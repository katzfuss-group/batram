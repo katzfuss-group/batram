{
 "cells": [
  {
   "cell_type": "code",
   "execution_count": 1,
   "metadata": {},
   "outputs": [
    {
     "name": "stderr",
     "output_type": "stream",
     "text": [
      "/home/anirban0451/miniconda3/envs/shrink2param/lib/python3.12/site-packages/tqdm/auto.py:21: TqdmWarning: IProgress not found. Please update jupyter and ipywidgets. See https://ipywidgets.readthedocs.io/en/stable/user_install.html\n",
      "  from .autonotebook import tqdm as notebook_tqdm\n"
     ]
    }
   ],
   "source": [
    "import pickle\n",
    "import math\n",
    "\n",
    "import torch\n",
    "import numpy as np\n",
    "from veccs import orderings\n",
    "from gpytorch.kernels import MaternKernel\n",
    "from sklearn.gaussian_process import kernels\n",
    "from matplotlib import pyplot as plt\n",
    "\n",
    "from batram.legmods import Data, SimpleTM\n",
    "from batram.shrinkmods import ShrinkTM, EstimableShrinkTM\n",
    "\n",
    "%load_ext autoreload\n",
    "%autoreload 2"
   ]
  },
  {
   "cell_type": "markdown",
   "metadata": {},
   "source": [
    "### Reading data"
   ]
  },
  {
   "cell_type": "code",
   "execution_count": 2,
   "metadata": {},
   "outputs": [],
   "source": [
    "\n",
    "with open(\"../data/prec_days.pkl\", \"rb\") as f:\n",
    "    prec_days = pickle.load(f)\n",
    "\n",
    "#with open(\"../data/prec_all.pkl\", \"rb\") as f:\n",
    "#    prec_all = pickle.load(f)\n",
    "\n",
    "lat = prec_days[\"lat\"]\n",
    "lon = prec_days[\"lon\"]\n",
    "obs = np.log(prec_days[\"precs\"][:,:,0].T + 1e-10)\n",
    "obs_orig = obs.copy()\n",
    "locs = np.loadtxt(\"../data/locs.csv\", skiprows=1, delimiter=\",\")\n",
    "lat = locs[:, 1]\n",
    "lon = locs[:, 0]\n",
    "#obs = np.loadtxt(\"../data/prec-june1.csv\", skiprows=1, delimiter=\",\").T\n",
    "#l=lon/360*2*math.pi; L=lat/360*2*math.pi\n",
    "#locs = (np.vstack([np.cos(L)*np.cos(l),np.cos(L)*np.sin(l),np.sin(L)])).T"
   ]
  },
  {
   "cell_type": "code",
   "execution_count": 3,
   "metadata": {},
   "outputs": [],
   "source": [
    "#newline\n",
    "#l=(lon/360)*2*math.pi; L=(lat/360)*2*math.pi\n",
    "#locs=np.vstack([np.cos(L)*np.cos(l),np.cos(L)*np.sin(l),np.sin(L)]).T"
   ]
  },
  {
   "cell_type": "code",
   "execution_count": null,
   "metadata": {},
   "outputs": [],
   "source": []
  },
  {
   "cell_type": "code",
   "execution_count": 4,
   "metadata": {},
   "outputs": [],
   "source": [
    "#newline\n",
    "obsmean = np.mean(obs, axis=0, keepdims=True)\n",
    "obdsd = np.std(obs, axis=0, keepdims=True)"
   ]
  },
  {
   "cell_type": "code",
   "execution_count": 5,
   "metadata": {},
   "outputs": [],
   "source": [
    "#newline\n",
    "obs = (obs - obsmean) / obdsd"
   ]
  },
  {
   "cell_type": "code",
   "execution_count": 6,
   "metadata": {},
   "outputs": [],
   "source": [
    "#np.std(obs, axis = 0)"
   ]
  },
  {
   "cell_type": "markdown",
   "metadata": {},
   "source": [
    "### Ordering"
   ]
  },
  {
   "cell_type": "code",
   "execution_count": 7,
   "metadata": {},
   "outputs": [],
   "source": [
    "torch.manual_seed(6132024)\n",
    "locsorder = orderings.maxmin_cpp(locs)\n",
    "locsTrain = locs[locsorder, :]\n",
    "nn = orderings.find_nns_l2(locsTrain, 30)\n",
    "shuffle = torch.randperm(obs.shape[0])\n",
    "\n",
    "obsTrain = torch.from_numpy((obs[shuffle,:])[:, locsorder]).float()"
   ]
  },
  {
   "cell_type": "code",
   "execution_count": 8,
   "metadata": {},
   "outputs": [],
   "source": [
    "#newline\n",
    "#nsteps = 200\n",
    "#data = Data.new(torch.as_tensor(locsTrain).float(), torch.from_numpy(obs[0:2, :]).float(), torch.as_tensor(nn))\n",
    "\n",
    "#tm = SimpleTM(data, theta_init=torch.Tensor([-5, 0.2, 0.0, 0.0, 0.0, -1.0]), \n",
    "#              linear=False, smooth=1.5, nug_mult=4.0)\n",
    "#opt = torch.optim.Adam(tm.parameters(), lr=0.01)\n",
    "#sched = torch.optim.lr_scheduler.CosineAnnealingLR(opt, nsteps)\n",
    "#res = tm.fit(\n",
    "#    nsteps, 0.1, test_data=tm.data, optimizer=opt, scheduler=sched, batch_size=900\n",
    "#)"
   ]
  },
  {
   "cell_type": "markdown",
   "metadata": {},
   "source": [
    "### Training"
   ]
  },
  {
   "cell_type": "code",
   "execution_count": 9,
   "metadata": {},
   "outputs": [],
   "source": [
    "nsteps = 200\n",
    "nTrain = [1, 3, 5, 10, 20, 35, 50, 80]"
   ]
  },
  {
   "cell_type": "code",
   "execution_count": 10,
   "metadata": {},
   "outputs": [],
   "source": [
    "logscores_tm = []\n",
    "logscores_shrink = []\n",
    "numExpReps = 10\n",
    "tm_models = []\n",
    "shrink_models = []\n",
    "numTestSamples = 50\n",
    "ModifNumTestSampleslist = []"
   ]
  },
  {
   "cell_type": "code",
   "execution_count": 11,
   "metadata": {},
   "outputs": [
    {
     "name": "stderr",
     "output_type": "stream",
     "text": [
      "Train Loss: 1552.891, Test Loss: 1554.066: 100%|██████████| 200/200 [00:03<00:00, 62.04it/s]\n",
      "Train Loss: -990.925, Test Loss: -988.482: 100%|██████████| 200/200 [00:41<00:00,  4.85it/s] \n"
     ]
    },
    {
     "name": "stdout",
     "output_type": "stream",
     "text": [
      "0th experiment with 1 training samples done.\n"
     ]
    },
    {
     "name": "stderr",
     "output_type": "stream",
     "text": [
      "Train Loss: 525.459, Test Loss: 525.762: 100%|██████████| 200/200 [00:03<00:00, 53.17it/s]\n",
      "Train Loss: -1439.788, Test Loss: -1441.139: 100%|██████████| 200/200 [00:41<00:00,  4.78it/s]\n"
     ]
    },
    {
     "name": "stdout",
     "output_type": "stream",
     "text": [
      "1th experiment with 1 training samples done.\n"
     ]
    },
    {
     "name": "stderr",
     "output_type": "stream",
     "text": [
      "Train Loss: 568.968, Test Loss: 566.101: 100%|██████████| 200/200 [00:03<00:00, 51.17it/s]\n",
      "Train Loss: -1471.230, Test Loss: -1471.392: 100%|██████████| 200/200 [00:41<00:00,  4.80it/s]\n"
     ]
    },
    {
     "name": "stdout",
     "output_type": "stream",
     "text": [
      "2th experiment with 1 training samples done.\n"
     ]
    },
    {
     "name": "stderr",
     "output_type": "stream",
     "text": [
      "Train Loss: 958.128, Test Loss: 957.954: 100%|██████████| 200/200 [00:03<00:00, 51.51it/s] \n",
      "Train Loss: -1250.469, Test Loss: -1244.725: 100%|██████████| 200/200 [00:40<00:00,  4.91it/s]\n"
     ]
    },
    {
     "name": "stdout",
     "output_type": "stream",
     "text": [
      "3th experiment with 1 training samples done.\n"
     ]
    },
    {
     "name": "stderr",
     "output_type": "stream",
     "text": [
      "Train Loss: 641.729, Test Loss: 640.318: 100%|██████████| 200/200 [00:03<00:00, 52.04it/s]\n",
      "Train Loss: -1630.450, Test Loss: -1634.086: 100%|██████████| 200/200 [00:42<00:00,  4.67it/s]\n"
     ]
    },
    {
     "name": "stdout",
     "output_type": "stream",
     "text": [
      "4th experiment with 1 training samples done.\n"
     ]
    },
    {
     "name": "stderr",
     "output_type": "stream",
     "text": [
      "Train Loss: 1096.920, Test Loss: 1097.801: 100%|██████████| 200/200 [00:03<00:00, 51.05it/s]\n",
      "Train Loss: -1181.384, Test Loss: -1184.332: 100%|██████████| 200/200 [00:42<00:00,  4.71it/s]\n"
     ]
    },
    {
     "name": "stdout",
     "output_type": "stream",
     "text": [
      "5th experiment with 1 training samples done.\n"
     ]
    },
    {
     "name": "stderr",
     "output_type": "stream",
     "text": [
      "Train Loss: 913.641, Test Loss: 919.279: 100%|██████████| 200/200 [00:04<00:00, 48.89it/s] \n",
      "Train Loss: -1179.733, Test Loss: -1181.447: 100%|██████████| 200/200 [00:41<00:00,  4.81it/s]\n"
     ]
    },
    {
     "name": "stdout",
     "output_type": "stream",
     "text": [
      "6th experiment with 1 training samples done.\n"
     ]
    },
    {
     "name": "stderr",
     "output_type": "stream",
     "text": [
      "Train Loss: 1091.205, Test Loss: 1088.838: 100%|██████████| 200/200 [00:04<00:00, 46.00it/s]\n",
      "Train Loss: -1044.856, Test Loss: -1042.468: 100%|██████████| 200/200 [00:42<00:00,  4.73it/s]\n"
     ]
    },
    {
     "name": "stdout",
     "output_type": "stream",
     "text": [
      "7th experiment with 1 training samples done.\n"
     ]
    },
    {
     "name": "stderr",
     "output_type": "stream",
     "text": [
      "Train Loss: 547.002, Test Loss: 542.968: 100%|██████████| 200/200 [00:03<00:00, 51.85it/s]\n",
      "Train Loss: -1500.650, Test Loss: -1500.912: 100%|██████████| 200/200 [00:41<00:00,  4.77it/s]\n"
     ]
    },
    {
     "name": "stdout",
     "output_type": "stream",
     "text": [
      "8th experiment with 1 training samples done.\n"
     ]
    },
    {
     "name": "stderr",
     "output_type": "stream",
     "text": [
      "Train Loss: 855.588, Test Loss: 854.038: 100%|██████████| 200/200 [00:03<00:00, 51.81it/s]\n",
      "Train Loss: -1517.261, Test Loss: -1505.352: 100%|██████████| 200/200 [00:41<00:00,  4.81it/s]\n"
     ]
    },
    {
     "name": "stdout",
     "output_type": "stream",
     "text": [
      "9th experiment with 1 training samples done.\n"
     ]
    },
    {
     "name": "stderr",
     "output_type": "stream",
     "text": [
      "Train Loss: -500.341, Test Loss: -503.132: 100%|██████████| 200/200 [00:06<00:00, 31.56it/s]\n",
      "Train Loss: -4171.000, Test Loss: -4160.732: 100%|██████████| 200/200 [00:43<00:00,  4.56it/s]\n"
     ]
    },
    {
     "name": "stdout",
     "output_type": "stream",
     "text": [
      "0th experiment with 3 training samples done.\n"
     ]
    },
    {
     "name": "stderr",
     "output_type": "stream",
     "text": [
      "Train Loss: 9.875, Test Loss: 28.477: 100%|██████████| 200/200 [00:06<00:00, 30.79it/s]  \n",
      "Train Loss: -3743.339, Test Loss: -3752.974: 100%|██████████| 200/200 [00:44<00:00,  4.54it/s]\n"
     ]
    },
    {
     "name": "stdout",
     "output_type": "stream",
     "text": [
      "1th experiment with 3 training samples done.\n"
     ]
    },
    {
     "name": "stderr",
     "output_type": "stream",
     "text": [
      "Train Loss: 31.207, Test Loss: 30.924: 100%|██████████| 200/200 [00:06<00:00, 31.09it/s] \n",
      "Train Loss: -3932.826, Test Loss: -3951.556: 100%|██████████| 200/200 [00:44<00:00,  4.49it/s]\n"
     ]
    },
    {
     "name": "stdout",
     "output_type": "stream",
     "text": [
      "2th experiment with 3 training samples done.\n"
     ]
    },
    {
     "name": "stderr",
     "output_type": "stream",
     "text": [
      "Train Loss: 11.504, Test Loss: 7.253: 100%|██████████| 200/200 [00:06<00:00, 31.08it/s]   \n",
      "Train Loss: -3920.655, Test Loss: -3912.184: 100%|██████████| 200/200 [00:43<00:00,  4.60it/s]\n"
     ]
    },
    {
     "name": "stdout",
     "output_type": "stream",
     "text": [
      "3th experiment with 3 training samples done.\n"
     ]
    },
    {
     "name": "stderr",
     "output_type": "stream",
     "text": [
      "Train Loss: 442.206, Test Loss: 430.289: 100%|██████████| 200/200 [00:06<00:00, 32.18it/s]\n",
      "Train Loss: -3804.906, Test Loss: -3787.244: 100%|██████████| 200/200 [00:44<00:00,  4.52it/s]\n"
     ]
    },
    {
     "name": "stdout",
     "output_type": "stream",
     "text": [
      "4th experiment with 3 training samples done.\n"
     ]
    },
    {
     "name": "stderr",
     "output_type": "stream",
     "text": [
      "Train Loss: -738.988, Test Loss: -726.861: 100%|██████████| 200/200 [00:06<00:00, 31.40it/s]\n",
      "Train Loss: -4569.646, Test Loss: -4565.569: 100%|██████████| 200/200 [00:44<00:00,  4.54it/s]\n"
     ]
    },
    {
     "name": "stdout",
     "output_type": "stream",
     "text": [
      "5th experiment with 3 training samples done.\n"
     ]
    },
    {
     "name": "stderr",
     "output_type": "stream",
     "text": [
      "Train Loss: -462.269, Test Loss: -469.884: 100%|██████████| 200/200 [00:06<00:00, 31.56it/s]\n",
      "Train Loss: -3903.669, Test Loss: -3914.947: 100%|██████████| 200/200 [00:43<00:00,  4.57it/s]\n"
     ]
    },
    {
     "name": "stdout",
     "output_type": "stream",
     "text": [
      "6th experiment with 3 training samples done.\n"
     ]
    },
    {
     "name": "stderr",
     "output_type": "stream",
     "text": [
      "Train Loss: -84.220, Test Loss: -74.559: 100%|██████████| 200/200 [00:06<00:00, 31.07it/s] \n",
      "Train Loss: -3799.002, Test Loss: -3806.540: 100%|██████████| 200/200 [00:43<00:00,  4.58it/s]\n"
     ]
    },
    {
     "name": "stdout",
     "output_type": "stream",
     "text": [
      "7th experiment with 3 training samples done.\n"
     ]
    },
    {
     "name": "stderr",
     "output_type": "stream",
     "text": [
      "Train Loss: 592.097, Test Loss: 612.787: 100%|██████████| 200/200 [00:06<00:00, 30.95it/s] \n",
      "Train Loss: -3358.477, Test Loss: -3361.537: 100%|██████████| 200/200 [00:44<00:00,  4.47it/s]\n"
     ]
    },
    {
     "name": "stdout",
     "output_type": "stream",
     "text": [
      "8th experiment with 3 training samples done.\n"
     ]
    },
    {
     "name": "stderr",
     "output_type": "stream",
     "text": [
      "Train Loss: 104.469, Test Loss: 102.905: 100%|██████████| 200/200 [00:06<00:00, 31.00it/s]\n",
      "Train Loss: -4146.238, Test Loss: -4145.869: 100%|██████████| 200/200 [00:44<00:00,  4.53it/s]\n"
     ]
    },
    {
     "name": "stdout",
     "output_type": "stream",
     "text": [
      "9th experiment with 3 training samples done.\n"
     ]
    },
    {
     "name": "stderr",
     "output_type": "stream",
     "text": [
      "Train Loss: -1346.656, Test Loss: -1343.956: 100%|██████████| 200/200 [00:07<00:00, 27.21it/s]\n",
      "Train Loss: -6399.567, Test Loss: -6406.740: 100%|██████████| 200/200 [00:45<00:00,  4.37it/s]\n"
     ]
    },
    {
     "name": "stdout",
     "output_type": "stream",
     "text": [
      "0th experiment with 5 training samples done.\n"
     ]
    },
    {
     "name": "stderr",
     "output_type": "stream",
     "text": [
      "Train Loss: -926.300, Test Loss: -927.621: 100%|██████████| 200/200 [00:07<00:00, 27.18it/s]\n",
      "Train Loss: -5822.477, Test Loss: -5842.667: 100%|██████████| 200/200 [00:44<00:00,  4.45it/s]\n"
     ]
    },
    {
     "name": "stdout",
     "output_type": "stream",
     "text": [
      "1th experiment with 5 training samples done.\n"
     ]
    },
    {
     "name": "stderr",
     "output_type": "stream",
     "text": [
      "Train Loss: -1368.433, Test Loss: -1376.410: 100%|██████████| 200/200 [00:07<00:00, 26.36it/s]\n",
      "Train Loss: -6119.467, Test Loss: -6082.329: 100%|██████████| 200/200 [00:45<00:00,  4.37it/s]\n"
     ]
    },
    {
     "name": "stdout",
     "output_type": "stream",
     "text": [
      "2th experiment with 5 training samples done.\n"
     ]
    },
    {
     "name": "stderr",
     "output_type": "stream",
     "text": [
      "Train Loss: -1314.773, Test Loss: -1291.767: 100%|██████████| 200/200 [00:07<00:00, 26.33it/s]\n",
      "Train Loss: -5869.437, Test Loss: -5864.466: 100%|██████████| 200/200 [00:44<00:00,  4.46it/s]\n"
     ]
    },
    {
     "name": "stdout",
     "output_type": "stream",
     "text": [
      "3th experiment with 5 training samples done.\n"
     ]
    },
    {
     "name": "stderr",
     "output_type": "stream",
     "text": [
      "Train Loss: -1500.540, Test Loss: -1494.212: 100%|██████████| 200/200 [00:07<00:00, 25.58it/s]\n",
      "Train Loss: -6848.029, Test Loss: -6850.935: 100%|██████████| 200/200 [00:44<00:00,  4.49it/s]\n"
     ]
    },
    {
     "name": "stdout",
     "output_type": "stream",
     "text": [
      "4th experiment with 5 training samples done.\n"
     ]
    },
    {
     "name": "stderr",
     "output_type": "stream",
     "text": [
      "Train Loss: -1130.435, Test Loss: -1155.279: 100%|██████████| 200/200 [00:07<00:00, 25.33it/s]\n",
      "Train Loss: -5953.215, Test Loss: -5917.223: 100%|██████████| 200/200 [00:44<00:00,  4.45it/s]\n"
     ]
    },
    {
     "name": "stdout",
     "output_type": "stream",
     "text": [
      "5th experiment with 5 training samples done.\n"
     ]
    },
    {
     "name": "stderr",
     "output_type": "stream",
     "text": [
      "Train Loss: -1773.315, Test Loss: -1783.103: 100%|██████████| 200/200 [00:07<00:00, 25.05it/s]\n",
      "Train Loss: -6626.416, Test Loss: -6654.217: 100%|██████████| 200/200 [00:45<00:00,  4.43it/s]\n"
     ]
    },
    {
     "name": "stdout",
     "output_type": "stream",
     "text": [
      "6th experiment with 5 training samples done.\n"
     ]
    },
    {
     "name": "stderr",
     "output_type": "stream",
     "text": [
      "Train Loss: -2616.887, Test Loss: -2626.720: 100%|██████████| 200/200 [00:07<00:00, 26.53it/s]\n",
      "Train Loss: -7489.414, Test Loss: -7522.971: 100%|██████████| 200/200 [00:44<00:00,  4.49it/s]\n"
     ]
    },
    {
     "name": "stdout",
     "output_type": "stream",
     "text": [
      "7th experiment with 5 training samples done.\n"
     ]
    },
    {
     "name": "stderr",
     "output_type": "stream",
     "text": [
      "Train Loss: -1561.447, Test Loss: -1551.646: 100%|██████████| 200/200 [00:07<00:00, 26.92it/s]\n",
      "Train Loss: -6278.622, Test Loss: -6255.151: 100%|██████████| 200/200 [00:45<00:00,  4.37it/s]\n"
     ]
    },
    {
     "name": "stdout",
     "output_type": "stream",
     "text": [
      "8th experiment with 5 training samples done.\n"
     ]
    },
    {
     "name": "stderr",
     "output_type": "stream",
     "text": [
      "Train Loss: -2501.442, Test Loss: -2513.267: 100%|██████████| 200/200 [00:07<00:00, 27.79it/s]\n",
      "Train Loss: -7238.104, Test Loss: -7236.577: 100%|██████████| 200/200 [00:45<00:00,  4.39it/s]\n"
     ]
    },
    {
     "name": "stdout",
     "output_type": "stream",
     "text": [
      "9th experiment with 5 training samples done.\n"
     ]
    },
    {
     "name": "stderr",
     "output_type": "stream",
     "text": [
      "Train Loss: -7954.654, Test Loss: -7920.582: 100%|██████████| 200/200 [00:09<00:00, 20.87it/s]\n",
      "Train Loss: -13975.454, Test Loss: -13914.316: 100%|██████████| 200/200 [00:49<00:00,  4.01it/s]\n"
     ]
    },
    {
     "name": "stdout",
     "output_type": "stream",
     "text": [
      "0th experiment with 10 training samples done.\n"
     ]
    },
    {
     "name": "stderr",
     "output_type": "stream",
     "text": [
      "Train Loss: -7057.485, Test Loss: -7042.172: 100%|██████████| 200/200 [00:10<00:00, 19.40it/s]\n",
      "Train Loss: -13300.372, Test Loss: -13270.931: 100%|██████████| 200/200 [00:51<00:00,  3.89it/s]\n"
     ]
    },
    {
     "name": "stdout",
     "output_type": "stream",
     "text": [
      "1th experiment with 10 training samples done.\n"
     ]
    },
    {
     "name": "stderr",
     "output_type": "stream",
     "text": [
      "Train Loss: -8542.801, Test Loss: -8490.802: 100%|██████████| 200/200 [00:11<00:00, 17.14it/s]\n",
      "Train Loss: -14242.997, Test Loss: -14275.353: 100%|██████████| 200/200 [00:49<00:00,  4.05it/s]\n"
     ]
    },
    {
     "name": "stdout",
     "output_type": "stream",
     "text": [
      "2th experiment with 10 training samples done.\n"
     ]
    },
    {
     "name": "stderr",
     "output_type": "stream",
     "text": [
      "Train Loss: -8159.159, Test Loss: -8123.187: 100%|██████████| 200/200 [00:09<00:00, 20.62it/s]\n",
      "Train Loss: -14295.843, Test Loss: -14283.741: 100%|██████████| 200/200 [00:49<00:00,  4.02it/s]\n"
     ]
    },
    {
     "name": "stdout",
     "output_type": "stream",
     "text": [
      "3th experiment with 10 training samples done.\n"
     ]
    },
    {
     "name": "stderr",
     "output_type": "stream",
     "text": [
      "Train Loss: -7717.818, Test Loss: -7675.227: 100%|██████████| 200/200 [00:09<00:00, 21.08it/s]\n",
      "Train Loss: -13846.123, Test Loss: -13834.026: 100%|██████████| 200/200 [00:50<00:00,  3.94it/s]\n"
     ]
    },
    {
     "name": "stdout",
     "output_type": "stream",
     "text": [
      "4th experiment with 10 training samples done.\n"
     ]
    },
    {
     "name": "stderr",
     "output_type": "stream",
     "text": [
      "Train Loss: -7853.457, Test Loss: -7824.169: 100%|██████████| 200/200 [00:09<00:00, 20.31it/s]\n",
      "Train Loss: -13840.383, Test Loss: -13858.611: 100%|██████████| 200/200 [00:51<00:00,  3.87it/s]\n"
     ]
    },
    {
     "name": "stdout",
     "output_type": "stream",
     "text": [
      "5th experiment with 10 training samples done.\n"
     ]
    },
    {
     "name": "stderr",
     "output_type": "stream",
     "text": [
      "Train Loss: -6782.579, Test Loss: -6813.026: 100%|██████████| 200/200 [00:09<00:00, 20.33it/s]\n",
      "Train Loss: -12979.203, Test Loss: -12971.694: 100%|██████████| 200/200 [00:51<00:00,  3.87it/s]\n"
     ]
    },
    {
     "name": "stdout",
     "output_type": "stream",
     "text": [
      "6th experiment with 10 training samples done.\n"
     ]
    },
    {
     "name": "stderr",
     "output_type": "stream",
     "text": [
      "Train Loss: -8268.795, Test Loss: -8305.234: 100%|██████████| 200/200 [00:10<00:00, 19.40it/s]\n",
      "Train Loss: -14134.465, Test Loss: -14111.599: 100%|██████████| 200/200 [00:51<00:00,  3.90it/s]\n"
     ]
    },
    {
     "name": "stdout",
     "output_type": "stream",
     "text": [
      "7th experiment with 10 training samples done.\n"
     ]
    },
    {
     "name": "stderr",
     "output_type": "stream",
     "text": [
      "Train Loss: -8302.350, Test Loss: -8270.062: 100%|██████████| 200/200 [00:09<00:00, 20.60it/s]\n",
      "Train Loss: -14099.631, Test Loss: -14142.887: 100%|██████████| 200/200 [00:50<00:00,  3.96it/s]\n"
     ]
    },
    {
     "name": "stdout",
     "output_type": "stream",
     "text": [
      "8th experiment with 10 training samples done.\n"
     ]
    },
    {
     "name": "stderr",
     "output_type": "stream",
     "text": [
      "Train Loss: -7585.583, Test Loss: -7595.719: 100%|██████████| 200/200 [00:09<00:00, 20.79it/s]\n",
      "Train Loss: -13266.845, Test Loss: -13253.619: 100%|██████████| 200/200 [00:52<00:00,  3.82it/s]\n"
     ]
    },
    {
     "name": "stdout",
     "output_type": "stream",
     "text": [
      "9th experiment with 10 training samples done.\n"
     ]
    },
    {
     "name": "stderr",
     "output_type": "stream",
     "text": [
      "Train Loss: -20842.594, Test Loss: -20770.174: 100%|██████████| 200/200 [00:18<00:00, 10.82it/s]\n",
      "Train Loss: -27041.157, Test Loss: -27090.988: 100%|██████████| 200/200 [00:58<00:00,  3.39it/s]\n"
     ]
    },
    {
     "name": "stdout",
     "output_type": "stream",
     "text": [
      "0th experiment with 20 training samples done.\n"
     ]
    },
    {
     "name": "stderr",
     "output_type": "stream",
     "text": [
      "Train Loss: -22135.951, Test Loss: -22132.422: 100%|██████████| 200/200 [00:19<00:00, 10.42it/s]\n",
      "Train Loss: -28767.246, Test Loss: -28744.180: 100%|██████████| 200/200 [00:59<00:00,  3.37it/s]\n"
     ]
    },
    {
     "name": "stdout",
     "output_type": "stream",
     "text": [
      "1th experiment with 20 training samples done.\n"
     ]
    },
    {
     "name": "stderr",
     "output_type": "stream",
     "text": [
      "Train Loss: -20468.211, Test Loss: -20404.629: 100%|██████████| 200/200 [00:18<00:00, 10.71it/s]\n",
      "Train Loss: -26908.773, Test Loss: -26924.781: 100%|██████████| 200/200 [00:59<00:00,  3.37it/s]\n"
     ]
    },
    {
     "name": "stdout",
     "output_type": "stream",
     "text": [
      "2th experiment with 20 training samples done.\n"
     ]
    },
    {
     "name": "stderr",
     "output_type": "stream",
     "text": [
      "Train Loss: -22225.034, Test Loss: -22140.566: 100%|██████████| 200/200 [00:19<00:00, 10.27it/s]\n",
      "Train Loss: -29230.695, Test Loss: -29160.943: 100%|██████████| 200/200 [00:59<00:00,  3.39it/s]\n"
     ]
    },
    {
     "name": "stdout",
     "output_type": "stream",
     "text": [
      "3th experiment with 20 training samples done.\n"
     ]
    },
    {
     "name": "stderr",
     "output_type": "stream",
     "text": [
      "Train Loss: -22119.702, Test Loss: -22131.391: 100%|██████████| 200/200 [00:19<00:00, 10.40it/s]\n",
      "Train Loss: -28912.590, Test Loss: -28912.186: 100%|██████████| 200/200 [00:58<00:00,  3.39it/s]\n"
     ]
    },
    {
     "name": "stdout",
     "output_type": "stream",
     "text": [
      "4th experiment with 20 training samples done.\n"
     ]
    },
    {
     "name": "stderr",
     "output_type": "stream",
     "text": [
      "Train Loss: -22475.305, Test Loss: -22473.611: 100%|██████████| 200/200 [00:19<00:00, 10.42it/s]\n",
      "Train Loss: -29098.665, Test Loss: -29075.779: 100%|██████████| 200/200 [00:58<00:00,  3.41it/s]\n"
     ]
    },
    {
     "name": "stdout",
     "output_type": "stream",
     "text": [
      "5th experiment with 20 training samples done.\n"
     ]
    },
    {
     "name": "stderr",
     "output_type": "stream",
     "text": [
      "Train Loss: -19850.571, Test Loss: -19897.484: 100%|██████████| 200/200 [00:19<00:00, 10.39it/s]\n",
      "Train Loss: -26523.445, Test Loss: -26559.740: 100%|██████████| 200/200 [00:59<00:00,  3.36it/s]\n"
     ]
    },
    {
     "name": "stdout",
     "output_type": "stream",
     "text": [
      "6th experiment with 20 training samples done.\n"
     ]
    },
    {
     "name": "stderr",
     "output_type": "stream",
     "text": [
      "Train Loss: -19785.604, Test Loss: -19820.572: 100%|██████████| 200/200 [00:18<00:00, 10.59it/s]\n",
      "Train Loss: -26474.036, Test Loss: -26457.473: 100%|██████████| 200/200 [00:59<00:00,  3.39it/s]\n"
     ]
    },
    {
     "name": "stdout",
     "output_type": "stream",
     "text": [
      "7th experiment with 20 training samples done.\n"
     ]
    },
    {
     "name": "stderr",
     "output_type": "stream",
     "text": [
      "Train Loss: -19225.294, Test Loss: -19338.631: 100%|██████████| 200/200 [00:19<00:00, 10.46it/s]\n",
      "Train Loss: -25995.219, Test Loss: -25933.492: 100%|██████████| 200/200 [00:59<00:00,  3.35it/s]\n"
     ]
    },
    {
     "name": "stdout",
     "output_type": "stream",
     "text": [
      "8th experiment with 20 training samples done.\n"
     ]
    },
    {
     "name": "stderr",
     "output_type": "stream",
     "text": [
      "Train Loss: -20916.656, Test Loss: -20933.014: 100%|██████████| 200/200 [00:18<00:00, 10.58it/s]\n",
      "Train Loss: -27139.786, Test Loss: -27069.359: 100%|██████████| 200/200 [00:58<00:00,  3.43it/s]\n"
     ]
    },
    {
     "name": "stdout",
     "output_type": "stream",
     "text": [
      "9th experiment with 20 training samples done.\n"
     ]
    },
    {
     "name": "stderr",
     "output_type": "stream",
     "text": [
      "Train Loss: -44251.341, Test Loss: -44171.398: 100%|██████████| 200/200 [00:45<00:00,  4.36it/s]\n",
      "Train Loss: -50979.255, Test Loss: -50883.812: 100%|██████████| 200/200 [01:30<00:00,  2.21it/s]\n"
     ]
    },
    {
     "name": "stdout",
     "output_type": "stream",
     "text": [
      "0th experiment with 35 training samples done.\n"
     ]
    },
    {
     "name": "stderr",
     "output_type": "stream",
     "text": [
      "Train Loss: -44175.984, Test Loss: -44192.758: 100%|██████████| 200/200 [00:43<00:00,  4.57it/s]\n",
      "Train Loss: -50932.415, Test Loss: -50862.523: 100%|██████████| 200/200 [01:31<00:00,  2.19it/s]\n"
     ]
    },
    {
     "name": "stdout",
     "output_type": "stream",
     "text": [
      "1th experiment with 35 training samples done.\n"
     ]
    },
    {
     "name": "stderr",
     "output_type": "stream",
     "text": [
      "Train Loss: -43432.462, Test Loss: -43535.523: 100%|██████████| 200/200 [00:45<00:00,  4.37it/s]\n",
      "Train Loss: -50265.059, Test Loss: -50352.109: 100%|██████████| 200/200 [01:25<00:00,  2.35it/s]\n"
     ]
    },
    {
     "name": "stdout",
     "output_type": "stream",
     "text": [
      "2th experiment with 35 training samples done.\n"
     ]
    },
    {
     "name": "stderr",
     "output_type": "stream",
     "text": [
      "Train Loss: -43495.564, Test Loss: -43595.508: 100%|██████████| 200/200 [00:45<00:00,  4.43it/s]\n",
      "Train Loss: -50046.302, Test Loss: -50122.418: 100%|██████████| 200/200 [01:31<00:00,  2.19it/s]\n"
     ]
    },
    {
     "name": "stdout",
     "output_type": "stream",
     "text": [
      "3th experiment with 35 training samples done.\n"
     ]
    },
    {
     "name": "stderr",
     "output_type": "stream",
     "text": [
      "Train Loss: -42524.904, Test Loss: -42430.836: 100%|██████████| 200/200 [00:44<00:00,  4.50it/s]\n",
      "Train Loss: -48895.663, Test Loss: -48999.652: 100%|██████████| 200/200 [01:32<00:00,  2.17it/s]\n"
     ]
    },
    {
     "name": "stdout",
     "output_type": "stream",
     "text": [
      "4th experiment with 35 training samples done.\n"
     ]
    },
    {
     "name": "stderr",
     "output_type": "stream",
     "text": [
      "Train Loss: -44998.009, Test Loss: -44969.043: 100%|██████████| 200/200 [00:44<00:00,  4.47it/s]\n",
      "Train Loss: -51600.206, Test Loss: -51690.820: 100%|██████████| 200/200 [01:31<00:00,  2.20it/s]\n"
     ]
    },
    {
     "name": "stdout",
     "output_type": "stream",
     "text": [
      "5th experiment with 35 training samples done.\n"
     ]
    },
    {
     "name": "stderr",
     "output_type": "stream",
     "text": [
      "Train Loss: -42936.133, Test Loss: -42851.895: 100%|██████████| 200/200 [00:44<00:00,  4.46it/s]\n",
      "Train Loss: -49790.882, Test Loss: -49737.578: 100%|██████████| 200/200 [01:31<00:00,  2.18it/s]\n"
     ]
    },
    {
     "name": "stdout",
     "output_type": "stream",
     "text": [
      "6th experiment with 35 training samples done.\n"
     ]
    },
    {
     "name": "stderr",
     "output_type": "stream",
     "text": [
      "Train Loss: -43070.900, Test Loss: -43042.680: 100%|██████████| 200/200 [00:46<00:00,  4.34it/s]\n",
      "Train Loss: -49587.767, Test Loss: -49594.992: 100%|██████████| 200/200 [01:30<00:00,  2.21it/s]\n"
     ]
    },
    {
     "name": "stdout",
     "output_type": "stream",
     "text": [
      "7th experiment with 35 training samples done.\n"
     ]
    },
    {
     "name": "stderr",
     "output_type": "stream",
     "text": [
      "Train Loss: -44027.938, Test Loss: -44037.453: 100%|██████████| 200/200 [00:44<00:00,  4.46it/s]\n",
      "Train Loss: -50823.941, Test Loss: -50651.641: 100%|██████████| 200/200 [01:30<00:00,  2.20it/s]\n"
     ]
    },
    {
     "name": "stdout",
     "output_type": "stream",
     "text": [
      "8th experiment with 35 training samples done.\n"
     ]
    },
    {
     "name": "stderr",
     "output_type": "stream",
     "text": [
      "Train Loss: -43665.805, Test Loss: -43793.738: 100%|██████████| 200/200 [00:46<00:00,  4.34it/s]\n",
      "Train Loss: -50239.689, Test Loss: -50133.434: 100%|██████████| 200/200 [01:32<00:00,  2.16it/s]\n"
     ]
    },
    {
     "name": "stdout",
     "output_type": "stream",
     "text": [
      "9th experiment with 35 training samples done.\n"
     ]
    },
    {
     "name": "stderr",
     "output_type": "stream",
     "text": [
      "Train Loss: -69887.630, Test Loss: -70077.805: 100%|██████████| 200/200 [01:24<00:00,  2.36it/s]\n",
      "Train Loss: -76592.432, Test Loss: -76600.328: 100%|██████████| 200/200 [02:12<00:00,  1.51it/s]\n"
     ]
    },
    {
     "name": "stdout",
     "output_type": "stream",
     "text": [
      "0th experiment with 50 training samples done.\n"
     ]
    },
    {
     "name": "stderr",
     "output_type": "stream",
     "text": [
      "Train Loss: -70132.492, Test Loss: -70199.047: 100%|██████████| 200/200 [01:26<00:00,  2.32it/s]\n",
      "Train Loss: -76556.880, Test Loss: -76828.305: 100%|██████████| 200/200 [02:10<00:00,  1.53it/s]\n"
     ]
    },
    {
     "name": "stdout",
     "output_type": "stream",
     "text": [
      "1th experiment with 50 training samples done.\n"
     ]
    },
    {
     "name": "stderr",
     "output_type": "stream",
     "text": [
      "Train Loss: -69051.875, Test Loss: -69040.086: 100%|██████████| 200/200 [01:24<00:00,  2.36it/s]\n",
      "Train Loss: -75556.372, Test Loss: -75747.438: 100%|██████████| 200/200 [02:12<00:00,  1.51it/s]\n"
     ]
    },
    {
     "name": "stdout",
     "output_type": "stream",
     "text": [
      "2th experiment with 50 training samples done.\n"
     ]
    },
    {
     "name": "stderr",
     "output_type": "stream",
     "text": [
      "Train Loss: -66471.815, Test Loss: -66523.594: 100%|██████████| 200/200 [01:27<00:00,  2.29it/s]\n",
      "Train Loss: -73301.826, Test Loss: -73248.656: 100%|██████████| 200/200 [02:11<00:00,  1.52it/s]\n"
     ]
    },
    {
     "name": "stdout",
     "output_type": "stream",
     "text": [
      "3th experiment with 50 training samples done.\n"
     ]
    },
    {
     "name": "stderr",
     "output_type": "stream",
     "text": [
      "Train Loss: -67938.570, Test Loss: -68025.148: 100%|██████████| 200/200 [01:27<00:00,  2.28it/s]\n",
      "Train Loss: -75026.398, Test Loss: -74987.344: 100%|██████████| 200/200 [02:11<00:00,  1.52it/s]\n"
     ]
    },
    {
     "name": "stdout",
     "output_type": "stream",
     "text": [
      "4th experiment with 50 training samples done.\n"
     ]
    },
    {
     "name": "stderr",
     "output_type": "stream",
     "text": [
      "Train Loss: -67003.607, Test Loss: -67232.820: 100%|██████████| 200/200 [01:30<00:00,  2.22it/s]\n",
      "Train Loss: -73748.911, Test Loss: -73748.438: 100%|██████████| 200/200 [02:10<00:00,  1.53it/s]\n"
     ]
    },
    {
     "name": "stdout",
     "output_type": "stream",
     "text": [
      "5th experiment with 50 training samples done.\n"
     ]
    },
    {
     "name": "stderr",
     "output_type": "stream",
     "text": [
      "Train Loss: -69980.555, Test Loss: -70074.219: 100%|██████████| 200/200 [01:27<00:00,  2.28it/s]\n",
      "Train Loss: -76358.477, Test Loss: -76536.773: 100%|██████████| 200/200 [02:12<00:00,  1.52it/s]\n"
     ]
    },
    {
     "name": "stdout",
     "output_type": "stream",
     "text": [
      "6th experiment with 50 training samples done.\n"
     ]
    },
    {
     "name": "stderr",
     "output_type": "stream",
     "text": [
      "Train Loss: -67123.312, Test Loss: -66994.359: 100%|██████████| 200/200 [01:28<00:00,  2.26it/s]\n",
      "Train Loss: -73679.784, Test Loss: -73802.039: 100%|██████████| 200/200 [02:12<00:00,  1.51it/s]\n"
     ]
    },
    {
     "name": "stdout",
     "output_type": "stream",
     "text": [
      "7th experiment with 50 training samples done.\n"
     ]
    },
    {
     "name": "stderr",
     "output_type": "stream",
     "text": [
      "Train Loss: -69188.406, Test Loss: -69211.359: 100%|██████████| 200/200 [01:28<00:00,  2.26it/s]\n",
      "Train Loss: -76071.602, Test Loss: -75824.906: 100%|██████████| 200/200 [02:11<00:00,  1.52it/s]\n"
     ]
    },
    {
     "name": "stdout",
     "output_type": "stream",
     "text": [
      "8th experiment with 50 training samples done.\n"
     ]
    },
    {
     "name": "stderr",
     "output_type": "stream",
     "text": [
      "Train Loss: -68570.208, Test Loss: -68742.484: 100%|██████████| 200/200 [01:27<00:00,  2.29it/s]\n",
      "Train Loss: -75239.190, Test Loss: -75352.266: 100%|██████████| 200/200 [02:12<00:00,  1.51it/s]\n"
     ]
    },
    {
     "name": "stdout",
     "output_type": "stream",
     "text": [
      "9th experiment with 50 training samples done.\n"
     ]
    },
    {
     "name": "stderr",
     "output_type": "stream",
     "text": [
      "Train Loss: -116603.768, Test Loss: -116615.453: 100%|██████████| 200/200 [03:32<00:00,  1.06s/it]\n",
      "Train Loss: -122715.138, Test Loss: -123051.305: 100%|██████████| 200/200 [04:08<00:00,  1.24s/it]\n"
     ]
    },
    {
     "name": "stdout",
     "output_type": "stream",
     "text": [
      "0th experiment with 80 training samples done.\n"
     ]
    },
    {
     "name": "stderr",
     "output_type": "stream",
     "text": [
      "Train Loss: -117886.674, Test Loss: -117924.578: 100%|██████████| 200/200 [04:12<00:00,  1.26s/it]\n",
      "Train Loss: -124340.440, Test Loss: -124358.680: 100%|██████████| 200/200 [04:15<00:00,  1.28s/it]\n"
     ]
    },
    {
     "name": "stdout",
     "output_type": "stream",
     "text": [
      "1th experiment with 80 training samples done.\n"
     ]
    },
    {
     "name": "stderr",
     "output_type": "stream",
     "text": [
      "Train Loss: -118138.279, Test Loss: -117818.422: 100%|██████████| 200/200 [03:39<00:00,  1.10s/it]\n",
      "Train Loss: -124375.393, Test Loss: -124270.617: 100%|██████████| 200/200 [04:07<00:00,  1.24s/it]\n"
     ]
    },
    {
     "name": "stdout",
     "output_type": "stream",
     "text": [
      "2th experiment with 80 training samples done.\n"
     ]
    },
    {
     "name": "stderr",
     "output_type": "stream",
     "text": [
      "Train Loss: -118877.021, Test Loss: -119194.875: 100%|██████████| 200/200 [03:43<00:00,  1.12s/it]\n",
      "Train Loss: -125362.070, Test Loss: -125471.844: 100%|██████████| 200/200 [04:06<00:00,  1.23s/it]\n"
     ]
    },
    {
     "name": "stdout",
     "output_type": "stream",
     "text": [
      "3th experiment with 80 training samples done.\n"
     ]
    },
    {
     "name": "stderr",
     "output_type": "stream",
     "text": [
      "Train Loss: -118057.979, Test Loss: -118050.711: 100%|██████████| 200/200 [03:18<00:00,  1.01it/s]\n",
      "Train Loss: -124154.047, Test Loss: -124439.312: 100%|██████████| 200/200 [04:05<00:00,  1.23s/it]\n"
     ]
    },
    {
     "name": "stdout",
     "output_type": "stream",
     "text": [
      "4th experiment with 80 training samples done.\n"
     ]
    },
    {
     "name": "stderr",
     "output_type": "stream",
     "text": [
      "Train Loss: -116392.464, Test Loss: -116736.609: 100%|██████████| 200/200 [03:20<00:00,  1.00s/it]\n",
      "Train Loss: -122601.513, Test Loss: -123123.555: 100%|██████████| 200/200 [03:55<00:00,  1.18s/it]\n"
     ]
    },
    {
     "name": "stdout",
     "output_type": "stream",
     "text": [
      "5th experiment with 80 training samples done.\n"
     ]
    },
    {
     "name": "stderr",
     "output_type": "stream",
     "text": [
      "Train Loss: -117361.995, Test Loss: -117452.516: 100%|██████████| 200/200 [03:14<00:00,  1.03it/s]\n",
      "Train Loss: -123969.461, Test Loss: -123928.414: 100%|██████████| 200/200 [03:59<00:00,  1.20s/it]\n"
     ]
    },
    {
     "name": "stdout",
     "output_type": "stream",
     "text": [
      "6th experiment with 80 training samples done.\n"
     ]
    },
    {
     "name": "stderr",
     "output_type": "stream",
     "text": [
      "Train Loss: -118762.409, Test Loss: -118809.117: 100%|██████████| 200/200 [03:16<00:00,  1.02it/s]\n",
      "Train Loss: -125057.120, Test Loss: -125150.547: 100%|██████████| 200/200 [03:57<00:00,  1.19s/it]\n"
     ]
    },
    {
     "name": "stdout",
     "output_type": "stream",
     "text": [
      "7th experiment with 80 training samples done.\n"
     ]
    },
    {
     "name": "stderr",
     "output_type": "stream",
     "text": [
      "Train Loss: -116512.961, Test Loss: -116471.047: 100%|██████████| 200/200 [03:14<00:00,  1.03it/s]\n",
      "Train Loss: -123068.951, Test Loss: -122993.609: 100%|██████████| 200/200 [04:01<00:00,  1.21s/it]\n"
     ]
    },
    {
     "name": "stdout",
     "output_type": "stream",
     "text": [
      "8th experiment with 80 training samples done.\n"
     ]
    },
    {
     "name": "stderr",
     "output_type": "stream",
     "text": [
      "Train Loss: -119766.286, Test Loss: -120056.203: 100%|██████████| 200/200 [03:15<00:00,  1.02it/s]\n",
      "Train Loss: -126728.620, Test Loss: -126507.859: 100%|██████████| 200/200 [04:45<00:00,  1.43s/it]\n"
     ]
    },
    {
     "name": "stdout",
     "output_type": "stream",
     "text": [
      "9th experiment with 80 training samples done.\n"
     ]
    }
   ],
   "source": [
    "MasterIndices = np.arange(obsTrain.shape[0])\n",
    "for n in nTrain:\n",
    "    \n",
    "    ActNumTestSamples = min(numTestSamples, (obsTrain.shape[0] - n))\n",
    "    logScore_tm = torch.zeros(numExpReps)\n",
    "    logScore_shrink = torch.zeros(numExpReps)\n",
    "    ModifNumTestSamples = (ActNumTestSamples * torch.ones(numExpReps))\n",
    "    for i in range(numExpReps):\n",
    "        indices = np.random.choice(MasterIndices, n, replace=False)\n",
    "        obsTrainSub = obsTrain[indices, :]\n",
    "        if obsTrainSub.dim() == 1:\n",
    "            obsTrainSub = obsTrainSub.unsqueeze(0)\n",
    "\n",
    "        data = Data.new(torch.as_tensor(locsTrain).float(), obsTrainSub, torch.as_tensor(nn))\n",
    "\n",
    "        tm = SimpleTM(data, theta_init=None, linear=False, smooth=1.5, nug_mult=4.0)\n",
    "        opt = torch.optim.Adam(tm.parameters(), lr=0.01)\n",
    "        sched = torch.optim.lr_scheduler.CosineAnnealingLR(opt, nsteps)\n",
    "        res = tm.fit(\n",
    "            nsteps, 0.1, test_data=tm.data, optimizer=opt, scheduler=sched, batch_size=900\n",
    "        )\n",
    "\n",
    "        shrink_tm = EstimableShrinkTM(data=data, linear=False, \n",
    "                            transportmap_smooth=1.5, \n",
    "                            parametric_kernel= \"exponential\",\n",
    "                            param_nu=0.5,\n",
    "                            param_ls=0.6,\n",
    "                            nug_mult_bounded=False)\n",
    "        opt2 = torch.optim.Adam(shrink_tm.parameters(), lr=0.01)\n",
    "        sched2 = torch.optim.lr_scheduler.CosineAnnealingLR(opt2, nsteps)\n",
    "        res2 = shrink_tm.fit(\n",
    "            nsteps, 0.1, test_data=shrink_tm.data, optimizer=opt2, scheduler=sched2, batch_size=900,\n",
    "\n",
    "        )\n",
    "        tm_models.append(tm)\n",
    "        shrink_models.append(shrink_tm)\n",
    "        TestIndices = np.setdiff1d(MasterIndices, indices)\n",
    "        for _j in range(ActNumTestSamples):\n",
    "            try:\n",
    "                with torch.no_grad():\n",
    "                    logScore_tm[i] += tm.score(obsTrain[(TestIndices[_j]), :])\n",
    "                logScore_shrink[i] += shrink_tm.score(obsTrain[(TestIndices[_j]), :])\n",
    "            except:\n",
    "                ModifNumTestSamples[i] -= 1\n",
    "                continue\n",
    "        print(f\"{i}th experiment with {n} training samples done.\")\n",
    "    ModifNumTestSampleslist.append(ModifNumTestSamples)\n",
    "    logscores_tm.append(logScore_tm)\n",
    "    logscores_shrink.append(logScore_shrink)\n",
    "        "
   ]
  },
  {
   "cell_type": "code",
   "execution_count": 12,
   "metadata": {},
   "outputs": [],
   "source": [
    "torch.save({\n",
    " 'logscores_tm': logscores_tm,\n",
    " 'logscores_shrink': logscores_shrink,\n",
    " 'ModifNumTestSampleslist': ModifNumTestSampleslist,\n",
    " 'nTrain': nTrain,\n",
    "}, '../results/precipresults_americas.pt')"
   ]
  },
  {
   "cell_type": "code",
   "execution_count": 13,
   "metadata": {},
   "outputs": [],
   "source": [
    "precipmodels = {\n",
    "    'tm_models': tm_models,\n",
    " 'shrink_models': shrink_models,  \n",
    "}\n",
    "\n",
    "with open('../results/precipmodels_americas.pkl', 'wb') as f:\n",
    "    pickle.dump(precipmodels, f)"
   ]
  },
  {
   "cell_type": "code",
   "execution_count": 14,
   "metadata": {},
   "outputs": [],
   "source": [
    "assert len(logscores_shrink) == len(logscores_tm)\n",
    "assert len(logscores_shrink) == len(ModifNumTestSampleslist)"
   ]
  },
  {
   "cell_type": "markdown",
   "metadata": {},
   "source": [
    "### Calculate average log score from experiments"
   ]
  },
  {
   "cell_type": "code",
   "execution_count": 15,
   "metadata": {},
   "outputs": [],
   "source": [
    "finalscore_tm = torch.zeros((len(logscores_tm[0]), len(nTrain)))\n",
    "finalscore_shrink = torch.zeros((len(logscores_shrink[0]), len(nTrain)))"
   ]
  },
  {
   "cell_type": "code",
   "execution_count": 16,
   "metadata": {},
   "outputs": [],
   "source": [
    "for i in range(len(nTrain)):\n",
    "    finalscore_tm[:, i] = logscores_tm[i] / ModifNumTestSampleslist[i]\n",
    "    finalscore_shrink[:, i] = logscores_shrink[i] / ModifNumTestSampleslist[i]"
   ]
  },
  {
   "cell_type": "code",
   "execution_count": 17,
   "metadata": {},
   "outputs": [
    {
     "data": {
      "image/png": "[encoded data removed]",
      "text/plain": [
       "<Figure size 640x480 with 1 Axes>"
      ]
     },
     "metadata": {},
     "output_type": "display_data"
    }
   ],
   "source": [
    "plt.plot(torch.arange(len(nTrain)), finalscore_tm.mean(dim=0), label=\"SimpleTM\")\n",
    "plt.plot(torch.arange(len(nTrain)), finalscore_shrink.mean(dim=0), label=\"ShrinkTM\")\n",
    "plt.legend()\n",
    "plt.xticks(torch.arange(len(nTrain)), labels = nTrain);"
   ]
  }
 ],
 "metadata": {
  "kernelspec": {
   "display_name": "shrink2param",
   "language": "python",
   "name": "python3"
  },
  "language_info": {
   "codemirror_mode": {
    "name": "ipython",
    "version": 3
   },
   "file_extension": ".py",
   "mimetype": "text/x-python",
   "name": "python",
   "nbconvert_exporter": "python",
   "pygments_lexer": "ipython3",
   "version": "3.1.undefined"
  }
 },
 "nbformat": 4,
 "nbformat_minor": 2
}
